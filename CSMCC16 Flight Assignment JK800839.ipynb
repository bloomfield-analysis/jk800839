{
 "cells": [
  {
   "cell_type": "markdown",
   "metadata": {},
   "source": [
    "# CSMCC16 Flight Coursework"
   ]
  },
  {
   "cell_type": "markdown",
   "metadata": {},
   "source": [
    "## Set up"
   ]
  },
  {
   "cell_type": "markdown",
   "metadata": {},
   "source": [
    "### Import packages"
   ]
  },
  {
   "cell_type": "code",
   "execution_count": 61,
   "metadata": {},
   "outputs": [],
   "source": [
    "import pandas as pd\n",
    "import datetime\n",
    "from difflib import SequenceMatcher\n",
    "import PySimpleGUI as sg\n",
    "import math"
   ]
  },
  {
   "cell_type": "code",
   "execution_count": 62,
   "metadata": {},
   "outputs": [],
   "source": [
    "# to view all 500 records, not top 5 and bottom 5\n",
    "pd.set_option(\"display.max_rows\", None, \"display.max_columns\", None)"
   ]
  },
  {
   "cell_type": "markdown",
   "metadata": {},
   "source": [
    "### GUI settings"
   ]
  },
  {
   "cell_type": "code",
   "execution_count": 63,
   "metadata": {},
   "outputs": [
    {
     "data": {
      "text/plain": [
       "True"
      ]
     },
     "execution_count": 63,
     "metadata": {},
     "output_type": "execute_result"
    }
   ],
   "source": [
    "sg.SetOptions(\n",
    "    background_color='#152238',\n",
    "       text_element_background_color='#152238',\n",
    "       element_background_color='#152238',\n",
    "       text_color='#FFFFFF',\n",
    "       scrollbar_color=None,\n",
    "       input_elements_background_color='#FFFFFF',\n",
    "       progress_meter_color = ('green', 'blue')\n",
    "#        button_color=('white','#475841')\n",
    "    )"
   ]
  },
  {
   "cell_type": "markdown",
   "metadata": {},
   "source": [
    "## Create Functions"
   ]
  },
  {
   "cell_type": "markdown",
   "metadata": {},
   "source": [
    "### Additional Columns"
   ]
  },
  {
   "cell_type": "code",
   "execution_count": 64,
   "metadata": {},
   "outputs": [],
   "source": [
    "#calculate datetime values from epoch and arrival time\n",
    "def calc_arrive_time(df):\n",
    "    df['Arrive_epoch'] = pass_data['Depart_time_epoch']+df['Flight_time_min']*60\n",
    "    df['Depart_time_datetime'] = pd.to_datetime(df['Depart_time_epoch'],unit='s')\n",
    "    df['Arrive_time_datetime'] = pd.to_datetime(df['Arrive_epoch'],unit='s')\n",
    "    df['Depart_time']=df['Depart_time_datetime'].dt.strftime(\"%H:%M:%S\")\n",
    "    df['Arrive_time']=df['Arrive_time_datetime'].dt.strftime(\"%H:%M:%S\")\n"
   ]
  },
  {
   "cell_type": "code",
   "execution_count": 65,
   "metadata": {},
   "outputs": [],
   "source": [
    "#create route (to use as unique id)\n",
    "def route(df):\n",
    "    df['Route'] = df['From_airport_IATA']+'-' + df['Dest_airport_IATA']+'-' + df['Depart_time']"
   ]
  },
  {
   "cell_type": "code",
   "execution_count": 66,
   "metadata": {},
   "outputs": [],
   "source": [
    "#break route for details\n",
    "def break_route(df):\n",
    "    df[['From_airport_IATA','Dest_airport_IATA','Depart_time']]=df['Route'].str.split('-',expand=True)"
   ]
  },
  {
   "cell_type": "markdown",
   "metadata": {},
   "source": [
    "### Import data"
   ]
  },
  {
   "cell_type": "code",
   "execution_count": 67,
   "metadata": {},
   "outputs": [],
   "source": [
    "#import csv as dataframe\n",
    "def import_dfs(pass_df,airport_df):\n",
    "    global pass_data\n",
    "    global airport_lat_lon\n",
    "    global pass_data_slim\n",
    "    global flights\n",
    "    global freq_fliers\n",
    "    pass_data = pd.DataFrame(pd.read_csv(pass_df,header=None))\n",
    "    airport_lat_lon = pd.DataFrame(pd.read_csv(airport_df,header=None))\n",
    "    # Add Column Names\n",
    "    pass_data.columns = ['Passenger_id'\n",
    "                            ,'Flight_id'\n",
    "                            ,'From_airport_IATA'\n",
    "                            ,'Dest_airport_IATA'\n",
    "                            ,'Depart_time_epoch'\n",
    "                            ,'Flight_time_min']\n",
    "    airport_lat_lon.columns = ['Airport_name'\n",
    "                            ,'Airport_IATA_code'\n",
    "                            ,'Latitude'\n",
    "                            ,'Longitude']\n",
    "\n",
    "    ### Remove missing values\n",
    "    pass_data=pass_data.dropna(subset=['Flight_id','Passenger_id'])\n",
    "    #Add flight time info \n",
    "    calc_arrive_time(pass_data)\n",
    "    #add route info\n",
    "    route(pass_data)\n",
    "    #select flights only\n",
    "    flight_info = ['Flight_id'\n",
    "                          ,'From_airport_IATA'\n",
    "                          ,'Dest_airport_IATA'\n",
    "                          ,'Route'         \n",
    "                            ]\n",
    "    flights = pass_data[flight_info]\n",
    "    flights = flights.groupby(flight_info).count()\n",
    "    flights.reset_index(inplace=True)\n",
    "    #select required passenger only    \n",
    "    pass_data_slim = pass_data[['Passenger_id','Flight_id','Route']]\n",
    "    freq_fliers = flight_per_pass(pass_data_slim)\n"
   ]
  },
  {
   "cell_type": "markdown",
   "metadata": {},
   "source": [
    "### Cleansing"
   ]
  },
  {
   "cell_type": "code",
   "execution_count": 68,
   "metadata": {},
   "outputs": [],
   "source": [
    "# Remove any rows that do not fit good_format\n",
    "def remove_bad_format(df,column,good_format):\n",
    "    df =df.loc[df[column].str.contains(good_format)==True]\n",
    "#add reset index?\n",
    "    return df"
   ]
  },
  {
   "cell_type": "code",
   "execution_count": 69,
   "metadata": {},
   "outputs": [],
   "source": [
    "# Remove row if not in a given list\n",
    "def remove_list(df,column,list1):\n",
    "    df = df[df[column].isin(list1)]\n",
    "#     df.reset_index(inplace=True, drop = True)\n",
    "    return df   "
   ]
  },
  {
   "cell_type": "code",
   "execution_count": 70,
   "metadata": {},
   "outputs": [],
   "source": [
    "# Calculate number of passengers per flights\n",
    "def pass_p_flight(df):\n",
    "    df2 = df[['Flight_id','Passenger_id']]\n",
    "    df_new = df2.groupby('Flight_id').count()\n",
    "#     df_new.reset_index(inplace=True, drop = True)\n",
    "    return df_new "
   ]
  },
  {
   "cell_type": "code",
   "execution_count": 71,
   "metadata": {},
   "outputs": [],
   "source": [
    "# Calculate number of flights per passenger\n",
    "def flight_per_pass(df):\n",
    "    df2 = df[['Flight_id','Passenger_id']]\n",
    "    df_new = df2.groupby('Passenger_id').count()\n",
    "    df_new.reset_index(inplace=True)\n",
    "    return df_new "
   ]
  },
  {
   "cell_type": "code",
   "execution_count": 72,
   "metadata": {},
   "outputs": [],
   "source": [
    "# Remove row if there is only 1\n",
    "def remove_if_1(df,column):\n",
    "    df = df.loc[df[column]!=1]\n",
    "#     df.reset_index(inplace=True)  -- need this removed for passengers!!\n",
    "    return df"
   ]
  },
  {
   "cell_type": "markdown",
   "metadata": {},
   "source": [
    "### Error correction"
   ]
  },
  {
   "cell_type": "code",
   "execution_count": 73,
   "metadata": {},
   "outputs": [],
   "source": [
    "# Remove flights where airport is not in airport list\n",
    "def airline_check():\n",
    "    global flights\n",
    "    flights = remove_list(flights\n",
    "                      ,'From_airport_IATA'\n",
    "                      ,airport_lat_lon['Airport_IATA_code'\n",
    "                                      ])\n",
    "    flights = remove_list(flights\n",
    "                      ,'Dest_airport_IATA'\n",
    "                      ,airport_lat_lon['Airport_IATA_code'\n",
    "                                      ])\n",
    "    flights.reset_index(inplace=True, drop = True)    "
   ]
  },
  {
   "cell_type": "code",
   "execution_count": 74,
   "metadata": {},
   "outputs": [],
   "source": [
    "#Remove flights that do not fit the flight id format\n",
    "def flightid_check():\n",
    "    global flights\n",
    "    format_flightid = r\"[A-Z][A-Z][A-Z][0-9][0-9][0-9][0-9][A-Z]\"\n",
    "    flights=remove_bad_format(flights,'Flight_id',format_flightid)"
   ]
  },
  {
   "cell_type": "code",
   "execution_count": 75,
   "metadata": {},
   "outputs": [],
   "source": [
    "#remove poor format passenger id\n",
    "def pass_id_check():\n",
    "    global freq_fliers\n",
    "    format_pass_id = r\"[A-Z][A-Z][A-Z][0-9][0-9][0-9][0-9][A-Z][A-Z][0-9]\"\n",
    "    freq_fliers=remove_bad_format(freq_fliers,'Passenger_id',format_pass_id)"
   ]
  },
  {
   "cell_type": "code",
   "execution_count": 76,
   "metadata": {},
   "outputs": [],
   "source": [
    "# Remove flights that have only had one passenger\n",
    "def oneflight_check():\n",
    "    global flights\n",
    "    # Calculate flights per passenger\n",
    "    flights_pass = pass_p_flight(pass_data)\n",
    "    # Remove if just 1 flight\n",
    "    flights_pp = remove_if_1(flights_pass,'Passenger_id')\n",
    "    flights_pp.reset_index(inplace=True)  # need to check if required!  \n",
    "    # Only keep flights in the flight pp list\n",
    "    flights = remove_list(flights,'Flight_id',flights_pp['Flight_id'])"
   ]
  },
  {
   "cell_type": "code",
   "execution_count": 77,
   "metadata": {},
   "outputs": [],
   "source": [
    "# update flight info\n",
    "def update_flight_err (df,column1,column2):\n",
    "    for ind in df.index:\n",
    "        if (df[column1][ind] in flights[column1].to_list()) == False:\n",
    "            #  if column 1 is wrong, use column 2\n",
    "            use_column2 = df[column2][ind]\n",
    "            #  get the row number of correct value\n",
    "            row = flights[flights[column2] == use_column2].index[0]\n",
    "            #  take the correct value from flights table\n",
    "            df.loc[ind,column1]=flights[column1][row]\n",
    "    return df"
   ]
  },
  {
   "cell_type": "code",
   "execution_count": 78,
   "metadata": {},
   "outputs": [],
   "source": [
    "# Update passenger id bsed on a checklist\n",
    "def update_pass_id(df,check_list):\n",
    "        true = check_list.to_list()\n",
    "        for ind in pass_data_slim.index:\n",
    "            f = df['Passenger_id'][ind]\n",
    "            # if the vlaue is not in the checklist...\n",
    "            if (f in true)==False:\n",
    "                test_best_true = []\n",
    "                final_true = []\n",
    "                # Check against all true values\n",
    "                for t in true:\n",
    "                    # SequesnceMatch Ratio will provide a similarity score\n",
    "                        test_best_true.append([t,round(SequenceMatcher(None, t, f).ratio(),3)])\n",
    "                test_best_true = pd.DataFrame(test_best_true)\n",
    "                # Replace the false value with the true value that has highest score\n",
    "                df.loc[ind,'Passenger_id']=test_best_true.iloc[test_best_true[1].idxmax(), 0]\n",
    "        return df"
   ]
  },
  {
   "cell_type": "markdown",
   "metadata": {},
   "source": [
    "## Objectives"
   ]
  },
  {
   "cell_type": "markdown",
   "metadata": {},
   "source": [
    "## Objective 1: \n",
    "### Determine the number of flights from each airport; include a list of any airports not used."
   ]
  },
  {
   "cell_type": "code",
   "execution_count": 79,
   "metadata": {},
   "outputs": [],
   "source": [
    "def MapReduceObj1():\n",
    "    global pass_data_slim\n",
    "    global mapper\n",
    "    global reducer\n",
    "#     from_list = pass_data_slim['From_airport_IATA'].to_list()\n",
    "    #mapper, where key = airport and value = 1 for each airport in from_list\n",
    "    key2val2 = [[a, 1] for a in pass_data_slim['From_airport_IATA']]\n",
    "    mapper = pd.DataFrame(key2val2, columns=['Airport_IATA_code','value'])\n",
    "    #mapper\n",
    "\n",
    "    #reducer - takes key and val from mapper to provide final key and value\n",
    "    reducer=mapper.groupby(['Airport_IATA_code']).sum()\n",
    "    reducer\n",
    "    reducer.reset_index(inplace=True)"
   ]
  },
  {
   "cell_type": "code",
   "execution_count": 80,
   "metadata": {},
   "outputs": [],
   "source": [
    "def format_obj1():\n",
    "    global num_flights\n",
    "    # merge full list of airports with number of flights from each airport\n",
    "    airport_list = pd.DataFrame(airport_lat_lon['Airport_IATA_code'])\n",
    "    # airport_list=airport_list)\n",
    "    num_flights = airport_list.merge(reducer, how='outer', on=['Airport_IATA_code'])\n",
    "    # clean up results\n",
    "    num_flights=num_flights.fillna(0)\n",
    "    num_flights=num_flights.sort_values(by=['value','Airport_IATA_code'], ascending=[False,True])\n",
    "    # not sure whether to do the one below.... i think it looks neater....\n",
    "    num_flights.reset_index(inplace=True, drop = True)\n",
    "#     num_flights"
   ]
  },
  {
   "cell_type": "markdown",
   "metadata": {},
   "source": [
    "## Objective 2\n",
    "### Calculate the number of passengers on each flight."
   ]
  },
  {
   "cell_type": "code",
   "execution_count": 81,
   "metadata": {},
   "outputs": [],
   "source": [
    "def MapReduceObj2():\n",
    "    global num_passengers\n",
    "    global mapper\n",
    "    global reducer\n",
    "    #mapper, where key = airport and value = 1 for each airport in from_list\n",
    "    key2val2 = [[a, 1] for a in pass_data_slim['Flight_id']]\n",
    "    mapper = pd.DataFrame(key2val2, columns=['Flight_id','value'])\n",
    "    #mapper\n",
    "\n",
    "    #reducer - takes key and val from mapper to provide final key and value\n",
    "    num_passengers=mapper.groupby(['Flight_id']).sum()\n",
    "    #num_passengers\n",
    "    #reducer\n",
    "    num_passengers.reset_index(inplace=True)"
   ]
  },
  {
   "cell_type": "code",
   "execution_count": 82,
   "metadata": {},
   "outputs": [],
   "source": [
    "def format_obj2():\n",
    "    global num_passengers\n",
    "    # clean up results\n",
    "    #num_passengers=num_flights.fillna(0)\n",
    "    num_passengers=num_passengers.sort_values(by=['value','Flight_id'], ascending=[False,True])\n",
    "    # num_passengers.set_index('Flight_id', inplace=True, drop=True)\n",
    "    num_passengers.reset_index(inplace=True, drop = True)\n"
   ]
  },
  {
   "cell_type": "markdown",
   "metadata": {},
   "source": [
    "## Objective 3\n",
    "### Output should include the passenger Id, relevant IATA/FAA codes, the departure time, the arrival time (times to be converted to HH:MM:SS format), and the flight times."
   ]
  },
  {
   "cell_type": "code",
   "execution_count": 83,
   "metadata": {},
   "outputs": [],
   "source": [
    "# Add additional flight information to flight id\n",
    "def add_extra():\n",
    "    global flight_extra_info\n",
    "    global num_passengers\n",
    "    global num_pas_extra\n",
    "    global flights_min\n",
    "    flights_min = flights[['Flight_id','Route']]\n",
    "    flight_extra_info = ['Flight_id','Arrive_time', 'Flight_time_min','Route']\n",
    "    flight_extra = pass_data[flight_extra_info]\n",
    "    flight_extra = flight_extra.groupby(flight_extra_info).count()\n",
    "    flight_extra.reset_index(inplace=True)\n",
    "    flight_extra=flights_min.merge(flight_extra, how='inner', on=['Flight_id','Route'])\n",
    "    num_pas_extra = num_passengers.merge(flight_extra, how='inner', on=['Flight_id'])"
   ]
  },
  {
   "cell_type": "markdown",
   "metadata": {},
   "source": [
    "## Objective 4\n",
    "### Calculate the line-of-sight (nautical) miles for each flight and the total travelled by each passenger and thus output the passenger having earned the highest air miles."
   ]
  },
  {
   "cell_type": "code",
   "execution_count": 86,
   "metadata": {},
   "outputs": [],
   "source": [
    "# pass_data_slim"
   ]
  },
  {
   "cell_type": "code",
   "execution_count": 87,
   "metadata": {},
   "outputs": [],
   "source": [
    "# Calulate miles per flight,\n",
    "\n",
    "def calculate_miles(df_in):\n",
    "    global miles_per_flight\n",
    "    miles_per_flight = []\n",
    "    for ind in df_in.index:\n",
    "            #Take from airport\n",
    "            p= df_in['Passenger_id'][ind]\n",
    "            x= df_in['From_airport_IATA'][ind]\n",
    "            #Find it in airport lat long list\n",
    "            row = (airport_lat_lon[airport_lat_lon['Airport_IATA_code'] == x].index[0])\n",
    "            #Give me the latitude and longitude\n",
    "            a = airport_lat_lon['Latitude'][row]\n",
    "            b = airport_lat_lon['Longitude'][row]\n",
    "            #Take dest airport\n",
    "            y = df_in['Dest_airport_IATA'][ind]\n",
    "            #Find it in airport lat long list\n",
    "            row = (airport_lat_lon[airport_lat_lon['Airport_IATA_code'] == y].index[0])\n",
    "            #Give me the latitude and longitude\n",
    "            c = airport_lat_lon['Latitude'][row]\n",
    "            d = airport_lat_lon['Longitude'][row]\n",
    "            miles = math.sqrt((c-a)**2+(d-b)**2)\n",
    "            miles_per_flight.append([df_in['Passenger_id'][ind],miles])\n",
    "    miles_per_flight= pd.DataFrame(miles_per_flight\n",
    "                                   , columns=['Passenger_id','Miles']\n",
    "                                  )    \n"
   ]
  },
  {
   "cell_type": "code",
   "execution_count": 88,
   "metadata": {},
   "outputs": [],
   "source": [
    "def MapReduceObj4():\n",
    "    global miles_per_pass\n",
    "    # mapper\n",
    "    key2val2 = pd.DataFrame()\n",
    "    for index,row in miles_per_flight.iterrows():\n",
    "        key2val2=key2val2.append(miles_per_flight.loc[index])\n",
    "        mapper = pd.DataFrame(key2val2, columns=['Miles','Passenger_id'])\n",
    "    #reducer - takes key and val from mapper to provide final key and value\n",
    "    miles_per_pass=mapper.groupby(['Passenger_id']).sum().round(1)\n",
    "    #reducer\n",
    "    miles_per_pass.reset_index(inplace=True)"
   ]
  },
  {
   "cell_type": "code",
   "execution_count": 89,
   "metadata": {},
   "outputs": [],
   "source": [
    "def format_obj4():\n",
    "    global miles_per_pass\n",
    "    # clean up results\n",
    "    #num_passengers=num_flights.fillna(0)\n",
    "    miles_per_pass=miles_per_pass.sort_values(by=['Miles'], ascending=[False])\n",
    "    miles_per_pass.set_index('Passenger_id', inplace=True, drop=True)\n",
    "    miles_per_pass.reset_index(inplace=True, drop = False)\n"
   ]
  },
  {
   "cell_type": "markdown",
   "metadata": {},
   "source": [
    "## GUI"
   ]
  },
  {
   "cell_type": "markdown",
   "metadata": {},
   "source": [
    "### Create windows"
   ]
  },
  {
   "cell_type": "code",
   "execution_count": 90,
   "metadata": {},
   "outputs": [],
   "source": [
    "#Welcome Window\n",
    "def welcome_win():\n",
    "    \n",
    "    layout = [\n",
    "                [sg.Text(\"University of Reading Flight Tracker\", size=(30, 1), font=('Tahoma', 20), key='Text')]\n",
    "               , [sg.Text(\"This prototype demonstrates how a MapReduce type algorithm can be used to analyse flights. Please press a button to continue\"\n",
    "                          , size=(30, 5), font=('Tahoma', 18), key='Text2')]\n",
    "              , [sg.Button(\"Close\",font=(14)), sg.Button(\"Import Data\",font=(14), key='-import-')]]\n",
    "\n",
    "    # Create the window\n",
    "    window = sg.Window(\"Welcome\", layout, margins=(10 #width\n",
    "                                                , 10 #height\n",
    "                                               ))\n",
    "\n",
    "    # Create an event loop\n",
    "    while True:\n",
    "        event, values = window.read()\n",
    "        # End program if user closes window or\n",
    "        # presses the OK button\n",
    "        if event == \"Close\" or event == sg.WIN_CLOSED:\n",
    "            break\n",
    "        elif event == '-import-':\n",
    "    #         pass_data = pd.DataFrame(pd.read_csv('AComp_Passenger_data.csv',header=None))    \n",
    "            import_dfs('AComp_Passenger_data.csv','Top30_airports_LatLong.csv')\n",
    "            print('pass_data data imported')\n",
    "    #         airport_lat_lon = pd.DataFrame(pd.read_csv('Top30_airports_LatLong.csv',header=None))\n",
    "            print('airport data imported')\n",
    "            data_loaded_win()\n",
    "\n",
    "    window.close()"
   ]
  },
  {
   "cell_type": "code",
   "execution_count": 91,
   "metadata": {},
   "outputs": [],
   "source": [
    "#Data Loaded Window\n",
    "def data_loaded_win():\n",
    "\n",
    "    layout = [\n",
    "#                 [sg.Text(\"Data Loaded\", size=(30, 1), font=('Tahoma', 20), key='Text')]\n",
    "                [sg.Text(\"The data has been loaded\"\n",
    "                          , size=(45, 1), font=('Tahoma', 18), key='Text2')]\n",
    "               , [sg.Text(\"Go to error correction if you have not yet done so.\"\n",
    "                          , size=(45, 1), font=('Tahoma', 18), key='Text3')]\n",
    "               , [sg.Text(\"Go to objectives if you have already corrected errors.\"\n",
    "                          , size=(45, 1), font=('Tahoma', 18), key='Text4')]\n",
    "               , [sg.Text(\"Or if your data has no errors, go to objectives.\"\n",
    "                          , size=(45, 1), font=('Tahoma', 18), key='Text5')]\n",
    "              , [sg.Button(\"Error Correction\",font=(14),key='-error-'), sg.Button(\"Objectives\",font=(14), key='-obj-')]]\n",
    "\n",
    "    # Create the window\n",
    "    window = sg.Window(\"Data Loaded\", layout, margins=(10, 10))\n",
    "\n",
    "    # Create an event loop\n",
    "    while True:\n",
    "        event, values = window.read()\n",
    "        # End program if user closes window or\n",
    "        # presses the OK button\n",
    "        if event == sg.WIN_CLOSED:\n",
    "#         if event == '-obj-' or event == sg.WIN_CLOSED:\n",
    "            break\n",
    "        elif event == '-error-':\n",
    "            error_corr_win()\n",
    "            print('go to error correction')\n",
    "        elif event == '-obj-':\n",
    "            break_route(pass_data_slim)\n",
    "            print('break route')\n",
    "            objectives_win()\n",
    "            print('objective window')\n",
    "    window.close()"
   ]
  },
  {
   "cell_type": "code",
   "execution_count": 92,
   "metadata": {},
   "outputs": [],
   "source": [
    "#Error Correction Window\n",
    "def error_corr_win():\n",
    "\n",
    "    layout = [\n",
    "               [sg.Text(\"Click to detect and correct errors. Errors can be found in flight or passenger information\"\n",
    "                          , size=(30, 4), font=('Tahoma', 18), key='Text2')]\n",
    "              , [sg.Button(\"Correct Flight Information\",font=(14), size=(25, 1),key='-flight_err-')]\n",
    "              , [sg.Button(\"Correct Passenger Information\",font=(14), size=(25, 1),key='-pass_err-')]\n",
    "              , [sg.Text(\"\",font=(14),key='-space-')]\n",
    "              , [sg.Button(\"Close\",font=(14),key='-exit-')]]\n",
    "\n",
    "    # Create the window\n",
    "    window = sg.Window(\"Error Correction\", layout, margins=(10, 10))\n",
    "\n",
    "    # Create an event loop\n",
    "    while True:\n",
    "        event, values = window.read()\n",
    "        # End program if user closes window or\n",
    "        # presses the OK button\n",
    "        if event == '-exit-' or event == sg.WIN_CLOSED:\n",
    "            break\n",
    "        elif event == '-obj-':\n",
    "            print('go to objectives')\n",
    "        elif event == '-flight_err-':\n",
    "            flight_err_win()\n",
    "            print('go to correct flight errors')\n",
    "        elif event == '-pass_err-':\n",
    "            pass_err_win()\n",
    "            print('go to correct passenger errors')\n",
    "\n",
    "    window.close()"
   ]
  },
  {
   "cell_type": "code",
   "execution_count": 93,
   "metadata": {},
   "outputs": [],
   "source": [
    "#Flight Correction Window\n",
    "def flight_err_win():\n",
    "    global flights\n",
    "    global pass_data_slim\n",
    "\n",
    "    layout = [\n",
    "               [sg.Text(\"Use the checkboxes to mark which error correction methods are to be included.\"\n",
    "                          , size=(30, 4), font=('Tahoma', 18), key='Text2')]\n",
    "            ,[sg.Checkbox('Check airline against list', font=('Tahoma', 14), enable_events=True, key='-airline-')]\n",
    "            ,[sg.Checkbox('Check flight id format', font=('Tahoma', 14), enable_events=True, key='-format-')]\n",
    "            ,[sg.Checkbox('Check if only one flight', font=('Tahoma', 14), enable_events=True, key='-oneflight-')]\n",
    "              , [sg.Text(\"\",font=(14),key='-space-')]\n",
    "              , [sg.Button(\"Back\",font=(14),key='-exit-')]]\n",
    "\n",
    "    # Create the window\n",
    "    window = sg.Window(\"Error Correction\", layout, margins=(10, 10))\n",
    "\n",
    "    # Create an event loop\n",
    "    while True:\n",
    "        event, values = window.read()\n",
    "        # End program if user closes window or\n",
    "        # presses the OK button\n",
    "        if event == '-exit-' or event == sg.WIN_CLOSED:\n",
    "            break\n",
    "        elif event == '-airline-':\n",
    "            airline_check()\n",
    "            print('correct based on airline')\n",
    "        elif event == '-format-':\n",
    "            flightid_check()\n",
    "            print('correct based on flight id format')\n",
    "        elif event == '-oneflight-':\n",
    "            oneflight_check()\n",
    "            print('correct based on one flight')\n",
    "    flights.reset_index(inplace=True, drop = True)\n",
    "    # Correct the errors\n",
    "    pass_data_slim = update_flight_err(pass_data_slim,'Route','Flight_id')\n",
    "    pass_data_slim = update_flight_err(pass_data_slim,'Flight_id','Route')\n",
    "#     print(pass_data_slim)\n",
    "    window.close()"
   ]
  },
  {
   "cell_type": "code",
   "execution_count": 94,
   "metadata": {},
   "outputs": [],
   "source": [
    "#Passenger Error Correction Window\n",
    "def pass_err_win():\n",
    "    global pass_data_slim\n",
    "    global freq_fliers\n",
    "\n",
    "    layout = [\n",
    "               [sg.Text(\"Use the checkboxes to mark which error correction methods are to be included.\"\n",
    "                          , size=(30, 4), font=('Tahoma', 18), key='Text2')]\n",
    "            ,[sg.Checkbox('Check passenger id format', font=('Tahoma', 14), enable_events=True, key='-format-')]\n",
    "            ,[sg.Checkbox('Check if only one flight', font=('Tahoma', 14), enable_events=True, key='-oneflight-')]\n",
    "              , [sg.Text(\"\",font=(14),key='-space-')]\n",
    "              , [sg.Button(\"Back\",font=(14),key='-exit-')]]\n",
    "\n",
    "    # Create the window\n",
    "    window = sg.Window(\"Error Correction\", layout, margins=(10, 10))\n",
    "\n",
    "    # Create an event loop\n",
    "    while True:\n",
    "        event, values = window.read()\n",
    "        # End program if user closes window or\n",
    "        # presses the OK button\n",
    "        if event == '-exit-' or event == sg.WIN_CLOSED:\n",
    "            break\n",
    "        elif event == '-format-':\n",
    "            pass_id_check()\n",
    "            print('correct based on passenger id format')\n",
    "        elif event == '-oneflight-':\n",
    "            freq_fliers = remove_if_1(freq_fliers,'Flight_id')\n",
    "            freq_fliers.reset_index(inplace=True, drop = True)\n",
    "            print('correct based on one flight')\n",
    "    freq_fliers.reset_index(inplace=True, drop = True)\n",
    "    #Correct the errors\n",
    "    pass_data_slim = update_pass_id(pass_data_slim,freq_fliers['Passenger_id'])\n",
    "#     print(pass_data_slim)\n",
    "    window.close()"
   ]
  },
  {
   "cell_type": "code",
   "execution_count": 95,
   "metadata": {},
   "outputs": [],
   "source": [
    "#Objectives Window\n",
    "def objectives_win():\n",
    "\n",
    "    layout = [\n",
    "               [sg.Text(\"Click to view each objective\"\n",
    "                          , size=(30, 2), font=('Tahoma', 18), key='Text2')]\n",
    "              , [sg.Button(\"Number of flights\",font=(14), size=(30, 1),key='-obj1-')]\n",
    "              , [sg.Button(\"Number of passengers\",font=(14), size=(30, 1),key='-obj2-')]\n",
    "              , [sg.Button(\"Flight Miles\",font=(14), size=(30, 1),key='-obj4-')]\n",
    "              , [sg.Text(\"\",font=(14),key='-space-')]\n",
    "              , [sg.Button(\"Exit\",font=(14),key='-exit-')]]\n",
    "\n",
    "    # Create the window\n",
    "    window = sg.Window(\"Objectives\", layout, margins=(10, 10))\n",
    "\n",
    "    # Create an event loop\n",
    "    while True:\n",
    "        event, values = window.read()\n",
    "        # End program if user closes window or\n",
    "        # presses the OK button\n",
    "        if event == '-exit-' or event == sg.WIN_CLOSED:\n",
    "            break\n",
    "        elif event == '-obj1-':\n",
    "            print('obj1')\n",
    "            MapReduceObj1()\n",
    "            format_obj1()\n",
    "            obj_win(num_flights,'Number of Flights from given airport',['Airport','Number of flights'])\n",
    "        elif event == '-obj2-':\n",
    "            MapReduceObj2()\n",
    "            format_obj2()\n",
    "            obj_win2(num_passengers,'Number of passengers per flight',['  Flight id  ','Number of passengers'])\n",
    "#             pass_err_win()\n",
    "            print('obj2')\n",
    "        elif event == '-obj4-':\n",
    "            print('obj4')\n",
    "            calculate_miles(pass_data_slim)\n",
    "            MapReduceObj4()\n",
    "            format_obj4()\n",
    "            obj_win(miles_per_pass,'Number of miles per passenger',['Passenger id','Number of miles'])\n",
    "\n",
    "    window.close()"
   ]
  },
  {
   "cell_type": "code",
   "execution_count": 96,
   "metadata": {},
   "outputs": [],
   "source": [
    "def obj_win (filename,title,header_list):\n",
    "    #Create table\n",
    "    sg.set_options(auto_size_buttons=True)\n",
    "    df = filename\n",
    "#     keep_on_top = True\n",
    "\n",
    "    data = []\n",
    "#     header_list = []\n",
    "    data = df.values.tolist()               # read everything else into a list of rows\n",
    "#     header_list = ['column' + str(x) for x in range(len(data[0]))]\n",
    "    layout = [\n",
    "        [sg.Text(title, size=(30, 1), font=('Tahoma', 20), key='Text')],\n",
    "        [sg.Table(values=data,\n",
    "#                   size=(60,10),\n",
    "                  headings=header_list,\n",
    "                  font=('Tahoma', 20),\n",
    "                  display_row_numbers=False,\n",
    "                  auto_size_columns=True,\n",
    "                  num_rows=min(10, len(data)))],\n",
    "        [sg.Button('Close',font=('Tahoma', 20),key='-close-')]      \n",
    "\n",
    "    ]\n",
    "\n",
    "    window = sg.Window('Table', layout, grab_anywhere=False)\n",
    "#     event, values = window.read()\n",
    "    \n",
    "    while True:\n",
    "        event, values = window.read()\n",
    "        # End program if user closes window or\n",
    "        # presses the OK button\n",
    "        if event == '-close-' or event == sg.WIN_CLOSED:\n",
    "            break\n",
    "    window.close()\n",
    "\n",
    "# table_example('Top30_airports_LatLong.csv')"
   ]
  },
  {
   "cell_type": "code",
   "execution_count": 97,
   "metadata": {},
   "outputs": [],
   "source": [
    "def obj_win2 (filename,title,header_list):\n",
    "    #Create table\n",
    "    sg.set_options(auto_size_buttons=True)\n",
    "    df = filename\n",
    "#     keep_on_top = True\n",
    "\n",
    "    data = []\n",
    "#     header_list = []\n",
    "    data = df.values.tolist()               # read everything else into a list of rows\n",
    "#     header_list = ['column' + str(x) for x in range(len(data[0]))]\n",
    "    layout = [\n",
    "        [sg.Text(title, size=(30, 1), font=('Tahoma', 20), key='Text')],\n",
    "        [sg.Table(values=data,\n",
    "#                   size=(60,10),\n",
    "                  headings=header_list,\n",
    "                  font=('Tahoma', 20),\n",
    "                  display_row_numbers=False,\n",
    "                  auto_size_columns=True,\n",
    "                  num_rows=min(10, len(data)))],\n",
    "        [sg.Button('Close',font=('Tahoma', 20),key='-close-'),sg.Button('Add extra info',font=('Tahoma', 20),key='-extra-')]      \n",
    "\n",
    "    ]\n",
    "\n",
    "    window = sg.Window('Table', layout, grab_anywhere=False)\n",
    "#     event, values = window.read()\n",
    "    \n",
    "    while True:\n",
    "        event, values = window.read()\n",
    "        # End program if user closes window or\n",
    "        # presses the OK button\n",
    "        if event == '-close-' or event == sg.WIN_CLOSED:\n",
    "            break\n",
    "        if event == '-extra-':\n",
    "            extra_headers=['Flight_id','Count Passengers','Route','Arrival time','Flight mins']\n",
    "            obj_win (num_pas_extra,'Number of passengers',extra_headers)\n",
    "            print('-extra-')\n",
    "#             add_extra()\n",
    "    \n",
    "            \n",
    "    window.close()\n",
    "\n",
    "# table_example('Top30_airports_LatLong.csv')"
   ]
  },
  {
   "cell_type": "markdown",
   "metadata": {},
   "source": [
    "### Start Application"
   ]
  },
  {
   "cell_type": "code",
   "execution_count": 98,
   "metadata": {},
   "outputs": [
    {
     "name": "stdout",
     "output_type": "stream",
     "text": [
      "pass_data data imported\n",
      "airport data imported\n",
      "correct based on airline\n",
      "correct based on flight id format\n",
      "correct based on one flight\n"
     ]
    },
    {
     "name": "stderr",
     "output_type": "stream",
     "text": [
      "/opt/anaconda3/lib/python3.7/site-packages/ipykernel_launcher.py:10: SettingWithCopyWarning: \n",
      "A value is trying to be set on a copy of a slice from a DataFrame\n",
      "\n",
      "See the caveats in the documentation: http://pandas.pydata.org/pandas-docs/stable/user_guide/indexing.html#returning-a-view-versus-a-copy\n",
      "  # Remove the CWD from sys.path while we load stuff.\n"
     ]
    },
    {
     "name": "stdout",
     "output_type": "stream",
     "text": [
      "go to correct flight errors\n",
      "correct based on passenger id format\n",
      "correct based on one flight\n"
     ]
    },
    {
     "name": "stderr",
     "output_type": "stream",
     "text": [
      "/opt/anaconda3/lib/python3.7/site-packages/ipykernel_launcher.py:16: SettingWithCopyWarning: \n",
      "A value is trying to be set on a copy of a slice from a DataFrame\n",
      "\n",
      "See the caveats in the documentation: http://pandas.pydata.org/pandas-docs/stable/user_guide/indexing.html#returning-a-view-versus-a-copy\n",
      "  app.launch_new_instance()\n"
     ]
    },
    {
     "name": "stdout",
     "output_type": "stream",
     "text": [
      "go to correct passenger errors\n",
      "go to error correction\n",
      "break route\n",
      "obj1\n",
      "-extra-\n",
      "obj2\n",
      "obj4\n",
      "objective window\n"
     ]
    }
   ],
   "source": [
    "welcome_win()"
   ]
  }
 ],
 "metadata": {
  "kernelspec": {
   "display_name": "Python 3",
   "language": "python",
   "name": "python3"
  },
  "language_info": {
   "codemirror_mode": {
    "name": "ipython",
    "version": 3
   },
   "file_extension": ".py",
   "mimetype": "text/x-python",
   "name": "python",
   "nbconvert_exporter": "python",
   "pygments_lexer": "ipython3",
   "version": "3.7.4"
  }
 },
 "nbformat": 4,
 "nbformat_minor": 2
}
