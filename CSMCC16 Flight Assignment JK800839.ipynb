{
 "cells": [
  {
   "cell_type": "markdown",
   "metadata": {},
   "source": [
    "# CSMCC16 Flight Coursework"
   ]
  },
  {
   "cell_type": "markdown",
   "metadata": {},
   "source": [
    "### Import packages"
   ]
  },
  {
   "cell_type": "code",
   "execution_count": 1,
   "metadata": {},
   "outputs": [],
   "source": [
    "import numpy as np\n",
    "import pandas as pd\n",
    "import datetime\n",
    "import re\n",
    "from difflib import SequenceMatcher\n",
    "import PySimpleGUI as sg"
   ]
  },
  {
   "cell_type": "markdown",
   "metadata": {},
   "source": [
    "### Import data"
   ]
  },
  {
   "cell_type": "code",
   "execution_count": 8,
   "metadata": {},
   "outputs": [],
   "source": [
    "#import csv as dataframe\n",
    "pass_data = pd.DataFrame(pd.read_csv('AComp_Passenger_data.csv',header=None))\n",
    "airport_lat_lon = pd.DataFrame(pd.read_csv('Top30_airports_LatLong.csv',header=None))"
   ]
  },
  {
   "cell_type": "code",
   "execution_count": 9,
   "metadata": {},
   "outputs": [],
   "source": [
    "# Add Column Names\n",
    "pass_data.columns = ['Passenger_id'\n",
    "                        ,'Flight_id'\n",
    "                        ,'From_airport_IATA'\n",
    "                        ,'Dest_airport_IATA'\n",
    "                        ,'Depart_time_epoch'\n",
    "                        ,'Flight_time_min']\n",
    "airport_lat_lon.columns = ['Airport_name'\n",
    "                        ,'Airport_IATA_code'\n",
    "                        ,'Latitude'\n",
    "                        ,'Longitude']"
   ]
  },
  {
   "cell_type": "markdown",
   "metadata": {},
   "source": [
    "### Remove missing values"
   ]
  },
  {
   "cell_type": "code",
   "execution_count": 10,
   "metadata": {},
   "outputs": [],
   "source": [
    "#Remove values where passenger id and flight id are missing\n",
    "pass_data=pass_data.dropna(subset=['Flight_id','Passenger_id'])"
   ]
  },
  {
   "cell_type": "markdown",
   "metadata": {},
   "source": [
    "### Functions for Additional Columns and formats"
   ]
  },
  {
   "cell_type": "code",
   "execution_count": 11,
   "metadata": {},
   "outputs": [],
   "source": [
    "#calculate datetime values from epoch and arrival time\n",
    "def calc_arrive_time(df):\n",
    "    df['Depart_time_datetime'] = pd.to_datetime(df['Depart_time_epoch'],unit='s')\n",
    "    df['Arrive_epoch'] = pass_data['Depart_time_epoch']+df['Flight_time_min']*60\n",
    "    df['Arrive_time_datetime'] = pd.to_datetime(df['Arrive_epoch'],unit='s')"
   ]
  },
  {
   "cell_type": "code",
   "execution_count": 12,
   "metadata": {},
   "outputs": [],
   "source": [
    "#create route (to use as unique id)\n",
    "def route(df):\n",
    "    df['Route'] = df['From_airport_IATA']+'-' + df['Dest_airport_IATA']+'-' + df['Depart_time']"
   ]
  },
  {
   "cell_type": "code",
   "execution_count": 13,
   "metadata": {},
   "outputs": [],
   "source": [
    "#break route for details\n",
    "def break_route(df):\n",
    "    df[['From_airport_IATA','Dest_airport_IATA','Depart_time']]=df['Route'].str.split('-',expand=True)"
   ]
  },
  {
   "cell_type": "code",
   "execution_count": null,
   "metadata": {},
   "outputs": [],
   "source": [
    "#break_route(pass_data_route)\n",
    "#pass_data_route[['From_airport_IATA','Dest_airport_IATA','Depart_time']]=pass_data_route['Route'].str.split('-',expand=True)"
   ]
  },
  {
   "cell_type": "code",
   "execution_count": 14,
   "metadata": {},
   "outputs": [],
   "source": [
    "#Add new datetime formats\n",
    "def add_times(df):\n",
    "    df['Depart_day_month']=df['Depart_time_datetime'].dt.strftime(\"%a %d/%b/%Y\")\n",
    "    #df['Depart_day_datetime']=pass_data_df['Depart_time_datetime'].dt.strftime(\"%a %d/%b/%Y %H:%M:%S\")\n",
    "    df['Depart_time']=df['Depart_time_datetime'].dt.strftime(\"%H:%M:%S\")\n",
    "    df['Arrive_time']=df['Arrive_time_datetime'].dt.strftime(\"%H:%M:%S\")\n",
    "    df['Depart_day_month']=df['Depart_time_datetime'].dt.strftime(\"%a %d/%b/%Y\")\n",
    "    #pass_data_df['Depart_day_datetime']=pass_data_df['Depart_time_datetime'].dt.strftime(\"%a %d/%b/%Y %H:%M:%S\")\n",
    "    df['Depart_time']=df['Depart_time_datetime'].dt.strftime(\"%H:%M:%S\")\n",
    "    df['Arrive_time']=df['Arrive_time_datetime'].dt.strftime(\"%H:%M:%S\")"
   ]
  },
  {
   "cell_type": "code",
   "execution_count": 15,
   "metadata": {},
   "outputs": [],
   "source": [
    "#Add column to allow counting of passengers\n",
    "def add_1(df):\n",
    "    df['count']='1'"
   ]
  },
  {
   "cell_type": "markdown",
   "metadata": {},
   "source": [
    "## Setting up the gui output"
   ]
  },
  {
   "cell_type": "code",
   "execution_count": 16,
   "metadata": {},
   "outputs": [
    {
     "data": {
      "text/plain": [
       "True"
      ]
     },
     "execution_count": 16,
     "metadata": {},
     "output_type": "execute_result"
    }
   ],
   "source": [
    "sg.SetOptions(\n",
    "    background_color='#152238',\n",
    "       text_element_background_color='#152238',\n",
    "       element_background_color='#152238',\n",
    "       text_color='#FFFFFF',\n",
    "       scrollbar_color=None,\n",
    "       input_elements_background_color='#FFFFFF',\n",
    "       progress_meter_color = ('green', 'blue')\n",
    "#        button_color=('white','#475841')\n",
    "    )"
   ]
  },
  {
   "cell_type": "markdown",
   "metadata": {},
   "source": [
    "### Add Additional Columns and formats"
   ]
  },
  {
   "cell_type": "code",
   "execution_count": null,
   "metadata": {},
   "outputs": [],
   "source": [
    "# route(flight_only_data)\n",
    "####check if necessary!!\n",
    "add_1(pass_data)\n",
    "# pass_data\n",
    "route(pass_data)\n",
    "# Select Route info only, and group data\n",
    "key_route_info=['Route'\n",
    "                      ,'From_airport_IATA'\n",
    "                      ,'Dest_airport_IATA'\n",
    "                      ,'Depart_day_month'\n",
    "                      ,'Depart_time'\n",
    "                      ,'Flight_time_min'\n",
    "                      ,'Arrive_time']\n",
    "route_info=pass_data[key_route_info]\n",
    "route_info=route_info.groupby(key_route_info).count()\n",
    "route_info.reset_index(inplace=True)\n",
    "\n",
    "# def group(base_df,variables,new_df):\n",
    "#     new_df=pd.DataFrame()\n",
    "#     #select variables only\n",
    "#     new_df=base_df[variables]\n",
    "#     #group by variables to create a table\n",
    "#     new_df=new_df.groupby(variables).count()\n",
    "#     #reset index\n",
    "#     new_df.reset_index(inplace=True)\n",
    "    \n",
    "# key_route_info=['Route'\n",
    "#                       ,'From_airport_IATA'\n",
    "#                       ,'Dest_airport_IATA'\n",
    "#                       ,'Depart_day_month'\n",
    "#                       ,'Depart_time'\n",
    "#                       ,'Flight_time_min'\n",
    "#                       ,'Arrive_time']\n",
    "# route_info_new=pd.DataFrame()\n",
    "# group(pass_data,key_route_info,route_info_new)\n",
    "\n",
    "# route_info\n",
    "\n",
    "# Number of passengers per flight id\n"
   ]
  },
  {
   "cell_type": "markdown",
   "metadata": {},
   "source": [
    "## Error Correction\n",
    "### Flights"
   ]
  },
  {
   "cell_type": "code",
   "execution_count": 21,
   "metadata": {},
   "outputs": [],
   "source": [
    "# #select subset of data \n",
    "# flight_info = ['Flight_id'\n",
    "#                       ,'From_airport_IATA'\n",
    "#                       ,'Dest_airport_IATA'\n",
    "#                       ,'Depart_time'         \n",
    "#                         ]\n",
    "# flight_only_data = pass_data[flight_info]\n",
    "# #Group data by flight\n",
    "# flight_only_data = flight_only_data.groupby(flight_info).count()\n",
    "# #reset index\n",
    "# flight_only_data.reset_index(inplace=True)\n"
   ]
  },
  {
   "cell_type": "markdown",
   "metadata": {},
   "source": [
    "### Flight data only"
   ]
  },
  {
   "cell_type": "code",
   "execution_count": 20,
   "metadata": {},
   "outputs": [],
   "source": [
    "#Add flight time info \n",
    "calc_arrive_time(pass_data)\n",
    "add_times(pass_data)"
   ]
  },
  {
   "cell_type": "code",
   "execution_count": 25,
   "metadata": {},
   "outputs": [],
   "source": [
    "#select subset of data \n",
    "flight_info = ['Flight_id'\n",
    "                      ,'From_airport_IATA'\n",
    "                      ,'Dest_airport_IATA'\n",
    "                      ,'Depart_time'         \n",
    "                        ]\n",
    "flights = pass_data[flight_info]\n",
    "#Group data by flight\n",
    "flights = flights.groupby(flight_info).count()\n",
    "#reset index\n",
    "flights.reset_index(inplace=True)\n",
    "#add route info\n",
    "route(flights)\n",
    "flights"
   ]
  },
  {
   "cell_type": "code",
   "execution_count": 27,
   "metadata": {},
   "outputs": [],
   "source": [
    "#check if airport in airport list\n",
    "airports = airport_lat_lon['Airport_IATA_code']\n",
    "airports"
   ]
  },
  {
   "cell_type": "code",
   "execution_count": 52,
   "metadata": {},
   "outputs": [],
   "source": [
    "# for a in flight_info['From_airport_IATA']:"
   ]
  },
  {
   "cell_type": "code",
   "execution_count": 49,
   "metadata": {},
   "outputs": [],
   "source": [
    "#Not necessary but keeping for reference\n",
    "\n",
    "#correct airport format\n",
    "format_IATA = r\"[A-Z][A-Z][A-Z]\"\n",
    "#remove row if from airport not correct format\n",
    "flights=flights[flights['From_airport_IATA'].str.contains(format_IATA)]\n",
    "#remove row if dest airport not correct format\n",
    "flights=flights[flights['Dest_airport_IATA'].str.contains(format_IATA)]"
   ]
  },
  {
   "cell_type": "code",
   "execution_count": 50,
   "metadata": {},
   "outputs": [],
   "source": [
    "#remove row if flight id not correct format\n",
    "format_flight_id = r\"[A-Z][A-Z][A-Z][0-9][0-9][0-9][0-9][A-Z]\"\n",
    "flights=flights[flights['Flight_id'].str.contains(format_flight_id)]"
   ]
  },
  {
   "cell_type": "code",
   "execution_count": 54,
   "metadata": {},
   "outputs": [],
   "source": [
    "# check if airport in airport list\n",
    "flights=flights[flights['From_airport_IATA'].isin(airports)]\n",
    "flights=flights[flights['Dest_airport_IATA'].isin(airports)]\n",
    "# flights"
   ]
  },
  {
   "cell_type": "code",
   "execution_count": null,
   "metadata": {},
   "outputs": [],
   "source": [
    "#check data\n",
    "# flight_only_data"
   ]
  },
  {
   "cell_type": "code",
   "execution_count": 55,
   "metadata": {},
   "outputs": [],
   "source": [
    "# Calculate the number of passengers per flight\n",
    "flight_pass = ['Flight_id','Passenger_id']\n",
    "flight_pass_data = pass_data[flight_pass]\n",
    "pass_per_flight=flight_pass_data.groupby('Flight_id').count()\n",
    "pass_per_flight.reset_index(inplace=True)\n",
    "#pass_per_flight"
   ]
  },
  {
   "cell_type": "code",
   "execution_count": 68,
   "metadata": {},
   "outputs": [
    {
     "data": {
      "text/html": [
       "<div>\n",
       "<style scoped>\n",
       "    .dataframe tbody tr th:only-of-type {\n",
       "        vertical-align: middle;\n",
       "    }\n",
       "\n",
       "    .dataframe tbody tr th {\n",
       "        vertical-align: top;\n",
       "    }\n",
       "\n",
       "    .dataframe thead th {\n",
       "        text-align: right;\n",
       "    }\n",
       "</style>\n",
       "<table border=\"1\" class=\"dataframe\">\n",
       "  <thead>\n",
       "    <tr style=\"text-align: right;\">\n",
       "      <th></th>\n",
       "      <th>Flight_id</th>\n",
       "      <th>From_airport_IATA</th>\n",
       "      <th>Dest_airport_IATA</th>\n",
       "      <th>Depart_time</th>\n",
       "      <th>Route</th>\n",
       "      <th>Passenger_id</th>\n",
       "    </tr>\n",
       "  </thead>\n",
       "  <tbody>\n",
       "    <tr>\n",
       "      <td>0</td>\n",
       "      <td>ATT7791R</td>\n",
       "      <td>AMS</td>\n",
       "      <td>DEN</td>\n",
       "      <td>17:13:14</td>\n",
       "      <td>AMS-DEN-17:13:14</td>\n",
       "      <td>15</td>\n",
       "    </tr>\n",
       "    <tr>\n",
       "      <td>1</td>\n",
       "      <td>BER7172M</td>\n",
       "      <td>KUL</td>\n",
       "      <td>LAS</td>\n",
       "      <td>17:26:07</td>\n",
       "      <td>KUL-LAS-17:26:07</td>\n",
       "      <td>17</td>\n",
       "    </tr>\n",
       "    <tr>\n",
       "      <td>2</td>\n",
       "      <td>DAU2617A</td>\n",
       "      <td>CGK</td>\n",
       "      <td>SFO</td>\n",
       "      <td>17:23:06</td>\n",
       "      <td>CGK-SFO-17:23:06</td>\n",
       "      <td>12</td>\n",
       "    </tr>\n",
       "    <tr>\n",
       "      <td>3</td>\n",
       "      <td>DKZ3042O</td>\n",
       "      <td>MIA</td>\n",
       "      <td>SFO</td>\n",
       "      <td>17:05:27</td>\n",
       "      <td>MIA-SFO-17:05:27</td>\n",
       "      <td>11</td>\n",
       "    </tr>\n",
       "    <tr>\n",
       "      <td>4</td>\n",
       "      <td>EWH6301Y</td>\n",
       "      <td>CAN</td>\n",
       "      <td>DFW</td>\n",
       "      <td>17:22:47</td>\n",
       "      <td>CAN-DFW-17:22:47</td>\n",
       "      <td>10</td>\n",
       "    </tr>\n",
       "    <tr>\n",
       "      <td>5</td>\n",
       "      <td>FYL5866L</td>\n",
       "      <td>ATL</td>\n",
       "      <td>HKG</td>\n",
       "      <td>17:25:40</td>\n",
       "      <td>ATL-HKG-17:25:40</td>\n",
       "      <td>20</td>\n",
       "    </tr>\n",
       "    <tr>\n",
       "      <td>6</td>\n",
       "      <td>GMO5938W</td>\n",
       "      <td>LHR</td>\n",
       "      <td>PEK</td>\n",
       "      <td>17:11:57</td>\n",
       "      <td>LHR-PEK-17:11:57</td>\n",
       "      <td>24</td>\n",
       "    </tr>\n",
       "    <tr>\n",
       "      <td>7</td>\n",
       "      <td>HUR0974O</td>\n",
       "      <td>DEN</td>\n",
       "      <td>PVG</td>\n",
       "      <td>17:15:25</td>\n",
       "      <td>DEN-PVG-17:15:25</td>\n",
       "      <td>7</td>\n",
       "    </tr>\n",
       "    <tr>\n",
       "      <td>8</td>\n",
       "      <td>HZT2506M</td>\n",
       "      <td>IAH</td>\n",
       "      <td>AMS</td>\n",
       "      <td>17:12:04</td>\n",
       "      <td>IAH-AMS-17:12:04</td>\n",
       "      <td>14</td>\n",
       "    </tr>\n",
       "    <tr>\n",
       "      <td>9</td>\n",
       "      <td>JVY9791G</td>\n",
       "      <td>PVG</td>\n",
       "      <td>FCO</td>\n",
       "      <td>17:16:01</td>\n",
       "      <td>PVG-FCO-17:16:01</td>\n",
       "      <td>20</td>\n",
       "    </tr>\n",
       "    <tr>\n",
       "      <td>10</td>\n",
       "      <td>KJR6646J</td>\n",
       "      <td>IAH</td>\n",
       "      <td>BKK</td>\n",
       "      <td>17:26:43</td>\n",
       "      <td>IAH-BKK-17:26:43</td>\n",
       "      <td>23</td>\n",
       "    </tr>\n",
       "    <tr>\n",
       "      <td>11</td>\n",
       "      <td>MBA8071P</td>\n",
       "      <td>KUL</td>\n",
       "      <td>PEK</td>\n",
       "      <td>17:04:16</td>\n",
       "      <td>KUL-PEK-17:04:16</td>\n",
       "      <td>15</td>\n",
       "    </tr>\n",
       "    <tr>\n",
       "      <td>12</td>\n",
       "      <td>MOO1786A</td>\n",
       "      <td>MAD</td>\n",
       "      <td>FRA</td>\n",
       "      <td>16:56:48</td>\n",
       "      <td>MAD-FRA-16:56:48</td>\n",
       "      <td>13</td>\n",
       "    </tr>\n",
       "    <tr>\n",
       "      <td>13</td>\n",
       "      <td>PME8178S</td>\n",
       "      <td>DEN</td>\n",
       "      <td>PEK</td>\n",
       "      <td>17:13:29</td>\n",
       "      <td>DEN-PEK-17:13:29</td>\n",
       "      <td>17</td>\n",
       "    </tr>\n",
       "    <tr>\n",
       "      <td>14</td>\n",
       "      <td>PNE8178S</td>\n",
       "      <td>DEN</td>\n",
       "      <td>PEK</td>\n",
       "      <td>17:13:29</td>\n",
       "      <td>DEN-PEK-17:13:29</td>\n",
       "      <td>1</td>\n",
       "    </tr>\n",
       "    <tr>\n",
       "      <td>15</td>\n",
       "      <td>QHU1140O</td>\n",
       "      <td>CDG</td>\n",
       "      <td>LAS</td>\n",
       "      <td>17:14:58</td>\n",
       "      <td>CDG-LAS-17:14:58</td>\n",
       "      <td>21</td>\n",
       "    </tr>\n",
       "    <tr>\n",
       "      <td>16</td>\n",
       "      <td>RPG3351U</td>\n",
       "      <td>HND</td>\n",
       "      <td>CAN</td>\n",
       "      <td>16:59:29</td>\n",
       "      <td>HND-CAN-16:59:29</td>\n",
       "      <td>13</td>\n",
       "    </tr>\n",
       "    <tr>\n",
       "      <td>17</td>\n",
       "      <td>RUM0422W</td>\n",
       "      <td>MUC</td>\n",
       "      <td>MAD</td>\n",
       "      <td>16:58:59</td>\n",
       "      <td>MUC-MAD-16:58:59</td>\n",
       "      <td>14</td>\n",
       "    </tr>\n",
       "    <tr>\n",
       "      <td>18</td>\n",
       "      <td>SOH3431A</td>\n",
       "      <td>ORD</td>\n",
       "      <td>MIA</td>\n",
       "      <td>17:00:49</td>\n",
       "      <td>ORD-MIA-17:00:49</td>\n",
       "      <td>18</td>\n",
       "    </tr>\n",
       "    <tr>\n",
       "      <td>19</td>\n",
       "      <td>SQU6245R</td>\n",
       "      <td>DEN</td>\n",
       "      <td>FRA</td>\n",
       "      <td>17:14:20</td>\n",
       "      <td>DEN-FRA-17:14:20</td>\n",
       "      <td>20</td>\n",
       "    </tr>\n",
       "    <tr>\n",
       "      <td>20</td>\n",
       "      <td>TMV7633W</td>\n",
       "      <td>CGK</td>\n",
       "      <td>DXB</td>\n",
       "      <td>17:05:58</td>\n",
       "      <td>CGK-DXB-17:05:58</td>\n",
       "      <td>15</td>\n",
       "    </tr>\n",
       "    <tr>\n",
       "      <td>21</td>\n",
       "      <td>ULZ8130D</td>\n",
       "      <td>CAN</td>\n",
       "      <td>DFW</td>\n",
       "      <td>17:23:03</td>\n",
       "      <td>CAN-DFW-17:23:03</td>\n",
       "      <td>27</td>\n",
       "    </tr>\n",
       "    <tr>\n",
       "      <td>22</td>\n",
       "      <td>VDC9164W</td>\n",
       "      <td>FCO</td>\n",
       "      <td>LAS</td>\n",
       "      <td>17:18:18</td>\n",
       "      <td>FCO-LAS-17:18:18</td>\n",
       "      <td>14</td>\n",
       "    </tr>\n",
       "    <tr>\n",
       "      <td>23</td>\n",
       "      <td>VYU9214I</td>\n",
       "      <td>ORD</td>\n",
       "      <td>DXB</td>\n",
       "      <td>17:18:36</td>\n",
       "      <td>ORD-DXB-17:18:36</td>\n",
       "      <td>15</td>\n",
       "    </tr>\n",
       "    <tr>\n",
       "      <td>24</td>\n",
       "      <td>VYW5940P</td>\n",
       "      <td>LAS</td>\n",
       "      <td>SIN</td>\n",
       "      <td>17:26:43</td>\n",
       "      <td>LAS-SIN-17:26:43</td>\n",
       "      <td>17</td>\n",
       "    </tr>\n",
       "    <tr>\n",
       "      <td>25</td>\n",
       "      <td>WPW9201U</td>\n",
       "      <td>DFW</td>\n",
       "      <td>PEK</td>\n",
       "      <td>17:21:09</td>\n",
       "      <td>DFW-PEK-17:21:09</td>\n",
       "      <td>11</td>\n",
       "    </tr>\n",
       "    <tr>\n",
       "      <td>26</td>\n",
       "      <td>WSK1289Z</td>\n",
       "      <td>CLT</td>\n",
       "      <td>DEN</td>\n",
       "      <td>16:59:02</td>\n",
       "      <td>CLT-DEN-16:59:02</td>\n",
       "      <td>21</td>\n",
       "    </tr>\n",
       "    <tr>\n",
       "      <td>27</td>\n",
       "      <td>XIL3623J</td>\n",
       "      <td>PEK</td>\n",
       "      <td>LAX</td>\n",
       "      <td>17:13:34</td>\n",
       "      <td>PEK-LAX-17:13:34</td>\n",
       "      <td>13</td>\n",
       "    </tr>\n",
       "    <tr>\n",
       "      <td>28</td>\n",
       "      <td>XOY7948U</td>\n",
       "      <td>ATL</td>\n",
       "      <td>LHR</td>\n",
       "      <td>17:07:18</td>\n",
       "      <td>ATL-LHR-17:07:18</td>\n",
       "      <td>16</td>\n",
       "    </tr>\n",
       "    <tr>\n",
       "      <td>29</td>\n",
       "      <td>XXQ4064B</td>\n",
       "      <td>JFK</td>\n",
       "      <td>FRA</td>\n",
       "      <td>17:05:17</td>\n",
       "      <td>JFK-FRA-17:05:17</td>\n",
       "      <td>24</td>\n",
       "    </tr>\n",
       "    <tr>\n",
       "      <td>30</td>\n",
       "      <td>YZO4444S</td>\n",
       "      <td>BKK</td>\n",
       "      <td>MIA</td>\n",
       "      <td>17:28:50</td>\n",
       "      <td>BKK-MIA-17:28:50</td>\n",
       "      <td>17</td>\n",
       "    </tr>\n",
       "  </tbody>\n",
       "</table>\n",
       "</div>"
      ],
      "text/plain": [
       "   Flight_id From_airport_IATA Dest_airport_IATA Depart_time  \\\n",
       "0   ATT7791R               AMS               DEN    17:13:14   \n",
       "1   BER7172M               KUL               LAS    17:26:07   \n",
       "2   DAU2617A               CGK               SFO    17:23:06   \n",
       "3   DKZ3042O               MIA               SFO    17:05:27   \n",
       "4   EWH6301Y               CAN               DFW    17:22:47   \n",
       "5   FYL5866L               ATL               HKG    17:25:40   \n",
       "6   GMO5938W               LHR               PEK    17:11:57   \n",
       "7   HUR0974O               DEN               PVG    17:15:25   \n",
       "8   HZT2506M               IAH               AMS    17:12:04   \n",
       "9   JVY9791G               PVG               FCO    17:16:01   \n",
       "10  KJR6646J               IAH               BKK    17:26:43   \n",
       "11  MBA8071P               KUL               PEK    17:04:16   \n",
       "12  MOO1786A               MAD               FRA    16:56:48   \n",
       "13  PME8178S               DEN               PEK    17:13:29   \n",
       "14  PNE8178S               DEN               PEK    17:13:29   \n",
       "15  QHU1140O               CDG               LAS    17:14:58   \n",
       "16  RPG3351U               HND               CAN    16:59:29   \n",
       "17  RUM0422W               MUC               MAD    16:58:59   \n",
       "18  SOH3431A               ORD               MIA    17:00:49   \n",
       "19  SQU6245R               DEN               FRA    17:14:20   \n",
       "20  TMV7633W               CGK               DXB    17:05:58   \n",
       "21  ULZ8130D               CAN               DFW    17:23:03   \n",
       "22  VDC9164W               FCO               LAS    17:18:18   \n",
       "23  VYU9214I               ORD               DXB    17:18:36   \n",
       "24  VYW5940P               LAS               SIN    17:26:43   \n",
       "25  WPW9201U               DFW               PEK    17:21:09   \n",
       "26  WSK1289Z               CLT               DEN    16:59:02   \n",
       "27  XIL3623J               PEK               LAX    17:13:34   \n",
       "28  XOY7948U               ATL               LHR    17:07:18   \n",
       "29  XXQ4064B               JFK               FRA    17:05:17   \n",
       "30  YZO4444S               BKK               MIA    17:28:50   \n",
       "\n",
       "               Route  Passenger_id  \n",
       "0   AMS-DEN-17:13:14            15  \n",
       "1   KUL-LAS-17:26:07            17  \n",
       "2   CGK-SFO-17:23:06            12  \n",
       "3   MIA-SFO-17:05:27            11  \n",
       "4   CAN-DFW-17:22:47            10  \n",
       "5   ATL-HKG-17:25:40            20  \n",
       "6   LHR-PEK-17:11:57            24  \n",
       "7   DEN-PVG-17:15:25             7  \n",
       "8   IAH-AMS-17:12:04            14  \n",
       "9   PVG-FCO-17:16:01            20  \n",
       "10  IAH-BKK-17:26:43            23  \n",
       "11  KUL-PEK-17:04:16            15  \n",
       "12  MAD-FRA-16:56:48            13  \n",
       "13  DEN-PEK-17:13:29            17  \n",
       "14  DEN-PEK-17:13:29             1  \n",
       "15  CDG-LAS-17:14:58            21  \n",
       "16  HND-CAN-16:59:29            13  \n",
       "17  MUC-MAD-16:58:59            14  \n",
       "18  ORD-MIA-17:00:49            18  \n",
       "19  DEN-FRA-17:14:20            20  \n",
       "20  CGK-DXB-17:05:58            15  \n",
       "21  CAN-DFW-17:23:03            27  \n",
       "22  FCO-LAS-17:18:18            14  \n",
       "23  ORD-DXB-17:18:36            15  \n",
       "24  LAS-SIN-17:26:43            17  \n",
       "25  DFW-PEK-17:21:09            11  \n",
       "26  CLT-DEN-16:59:02            21  \n",
       "27  PEK-LAX-17:13:34            13  \n",
       "28  ATL-LHR-17:07:18            16  \n",
       "29  JFK-FRA-17:05:17            24  \n",
       "30  BKK-MIA-17:28:50            17  "
      ]
     },
     "execution_count": 68,
     "metadata": {},
     "output_type": "execute_result"
    }
   ],
   "source": [
    "#merge correct flights with passenger numbers\n",
    "flights_merge=flights.merge(pass_per_flight, how='inner', on=['Flight_id'])"
   ]
  },
  {
   "cell_type": "code",
   "execution_count": 70,
   "metadata": {},
   "outputs": [],
   "source": [
    "# Remove duplicate routes with lowest number of passenger ids\n",
    "flights_merge=flights_merge.sort_values(by=['Route','Passenger_id']\n",
    "                             , ascending=[True,False]\n",
    "                             , na_position='first')\n",
    "flights_merge=flights_merge[flights_merge['Route'].duplicated()== False]\n",
    "# remove column of counts\n",
    "flights_merge=flights_merge.drop(labels='Passenger_id', axis=1)\n",
    "# flights_merge = flights_merge[flights_merge.columns[:-1]]\n",
    "flights_merge"
   ]
  },
  {
   "cell_type": "code",
   "execution_count": null,
   "metadata": {},
   "outputs": [],
   "source": [
    "# #add route info to flight only data\n",
    "# route(flight_only_data)"
   ]
  },
  {
   "cell_type": "markdown",
   "metadata": {},
   "source": [
    "## add to passenger data"
   ]
  },
  {
   "cell_type": "code",
   "execution_count": 73,
   "metadata": {},
   "outputs": [],
   "source": [
    "#Add route info to pass_data\n",
    "route(pass_data)"
   ]
  },
  {
   "cell_type": "code",
   "execution_count": 207,
   "metadata": {},
   "outputs": [],
   "source": [
    "#Select data required\n",
    "pass_data_slim = pass_data[['Passenger_id','Flight_id','Route']]\n",
    "flight_id_route = flights_merge[['Flight_id','Route']]"
   ]
  },
  {
   "cell_type": "code",
   "execution_count": 240,
   "metadata": {},
   "outputs": [],
   "source": [
    "# flights_merge = \n",
    "results = []\n",
    "for ind in pass_data_slim['Flight_id'].index:\n",
    "    #if the flight id is correct...\n",
    "    if (pass_data['Flight_id'][ind] in flight_id_route['Flight_id'].to_list()) == True:\n",
    "        # take the data from passenger data\n",
    "        results.append([pass_data_slim['Passenger_id'][ind]\n",
    "                        ,pass_data_slim['Flight_id'][ind]\n",
    "                        ,pass_data_slim['Route'][ind]])\n",
    "    #if the flight id is not correct...\n",
    "    else:\n",
    "        true_route = (pass_data['Route'][ind])\n",
    "        #  look up the route in the correct table\n",
    "        row = flight_id_route[flight_id_route['Route'] == true_route].index[0]\n",
    "        # give me the passenger id, the route id and the correct flight id\n",
    "        results.append([pass_data_slim['Passenger_id'][ind]\n",
    "                        , flight_id_route['Flight_id'][row]\n",
    "                        , flight_id_route['Route'][row]])\n",
    "results= pd.DataFrame(results)\n",
    "    "
   ]
  },
  {
   "cell_type": "code",
   "execution_count": 241,
   "metadata": {},
   "outputs": [
    {
     "data": {
      "text/html": [
       "<div>\n",
       "<style scoped>\n",
       "    .dataframe tbody tr th:only-of-type {\n",
       "        vertical-align: middle;\n",
       "    }\n",
       "\n",
       "    .dataframe tbody tr th {\n",
       "        vertical-align: top;\n",
       "    }\n",
       "\n",
       "    .dataframe thead th {\n",
       "        text-align: right;\n",
       "    }\n",
       "</style>\n",
       "<table border=\"1\" class=\"dataframe\">\n",
       "  <thead>\n",
       "    <tr style=\"text-align: right;\">\n",
       "      <th></th>\n",
       "      <th>0</th>\n",
       "      <th>1</th>\n",
       "      <th>2</th>\n",
       "    </tr>\n",
       "  </thead>\n",
       "  <tbody>\n",
       "    <tr>\n",
       "      <td>0</td>\n",
       "      <td>UES9151GS5</td>\n",
       "      <td>SQU6245R</td>\n",
       "      <td>DEN-FRA-17:14:20</td>\n",
       "    </tr>\n",
       "    <tr>\n",
       "      <td>1</td>\n",
       "      <td>UES9151GS5</td>\n",
       "      <td>XXQ4064B</td>\n",
       "      <td>JFK-FRA-17:05:17</td>\n",
       "    </tr>\n",
       "    <tr>\n",
       "      <td>2</td>\n",
       "      <td>EZC9678QI6</td>\n",
       "      <td>SOH3431A</td>\n",
       "      <td>ORD-MIA-17:00:49</td>\n",
       "    </tr>\n",
       "    <tr>\n",
       "      <td>3</td>\n",
       "      <td>ONL0812DH1</td>\n",
       "      <td>SOH3431A</td>\n",
       "      <td>ORD-MIA-17:00:49</td>\n",
       "    </tr>\n",
       "    <tr>\n",
       "      <td>4</td>\n",
       "      <td>CYJ0225CH1</td>\n",
       "      <td>PME8178S</td>\n",
       "      <td>DEN-PEK-17:13:29</td>\n",
       "    </tr>\n",
       "    <tr>\n",
       "      <td>...</td>\n",
       "      <td>...</td>\n",
       "      <td>...</td>\n",
       "      <td>...</td>\n",
       "    </tr>\n",
       "    <tr>\n",
       "      <td>495</td>\n",
       "      <td>BWI0520BG6</td>\n",
       "      <td>BER7172M</td>\n",
       "      <td>KUL-LAS-17:26:07</td>\n",
       "    </tr>\n",
       "    <tr>\n",
       "      <td>496</td>\n",
       "      <td>LLZ3798PE3</td>\n",
       "      <td>EWH6301Y</td>\n",
       "      <td>CAN-DFW-17:22:47</td>\n",
       "    </tr>\n",
       "    <tr>\n",
       "      <td>497</td>\n",
       "      <td>KKP5277HZ7</td>\n",
       "      <td>KJR6646J</td>\n",
       "      <td>IAH-BKK-17:26:43</td>\n",
       "    </tr>\n",
       "    <tr>\n",
       "      <td>498</td>\n",
       "      <td>JJM4724RF7</td>\n",
       "      <td>XXQ4064B</td>\n",
       "      <td>JFK-FRA-17:05:17</td>\n",
       "    </tr>\n",
       "    <tr>\n",
       "      <td>499</td>\n",
       "      <td>SJD8775RZ4</td>\n",
       "      <td>WSK1289Z</td>\n",
       "      <td>CLT-vEN-16:59:02</td>\n",
       "    </tr>\n",
       "  </tbody>\n",
       "</table>\n",
       "<p>500 rows × 3 columns</p>\n",
       "</div>"
      ],
      "text/plain": [
       "              0         1                 2\n",
       "0    UES9151GS5  SQU6245R  DEN-FRA-17:14:20\n",
       "1    UES9151GS5  XXQ4064B  JFK-FRA-17:05:17\n",
       "2    EZC9678QI6  SOH3431A  ORD-MIA-17:00:49\n",
       "3    ONL0812DH1  SOH3431A  ORD-MIA-17:00:49\n",
       "4    CYJ0225CH1  PME8178S  DEN-PEK-17:13:29\n",
       "..          ...       ...               ...\n",
       "495  BWI0520BG6  BER7172M  KUL-LAS-17:26:07\n",
       "496  LLZ3798PE3  EWH6301Y  CAN-DFW-17:22:47\n",
       "497  KKP5277HZ7  KJR6646J  IAH-BKK-17:26:43\n",
       "498  JJM4724RF7  XXQ4064B  JFK-FRA-17:05:17\n",
       "499  SJD8775RZ4  WSK1289Z  CLT-vEN-16:59:02\n",
       "\n",
       "[500 rows x 3 columns]"
      ]
     },
     "execution_count": 241,
     "metadata": {},
     "output_type": "execute_result"
    }
   ],
   "source": [
    "results\n",
    "# flights_merge"
   ]
  },
  {
   "cell_type": "code",
   "execution_count": 111,
   "metadata": {},
   "outputs": [],
   "source": [
    "results = []\n",
    "for ind in pass_data_slim['Flight_id'].index:\n",
    "    results.append([pass_data_slim['Flight_id'][ind],pass_data_slim['Passenger_id'][ind],pass_data_slim['Route'][ind]])\n",
    "results= pd.DataFrame(results)\n",
    "#     print(pass_data_slim['Flight_id'][ind])\n",
    "    #     results =(pass_data_slim['Flight_id'][ind],pass_data_slim['Passenger_id'][ind],pass_data_slim['Route'][ind])\n",
    "#     results=results.append(results)\n",
    "#     print(pass_data_slim['Flight_id'][ind],pass_data_slim['Passenger_id'][ind],pass_data_slim['Route'][ind])\n",
    "# if pass_data_slim['Flight_id'] in flights_merge['Flight_id'].to_list:\n",
    "#     print(pass_data_slim['Flight_id'])"
   ]
  },
  {
   "cell_type": "code",
   "execution_count": 112,
   "metadata": {},
   "outputs": [
    {
     "data": {
      "text/html": [
       "<div>\n",
       "<style scoped>\n",
       "    .dataframe tbody tr th:only-of-type {\n",
       "        vertical-align: middle;\n",
       "    }\n",
       "\n",
       "    .dataframe tbody tr th {\n",
       "        vertical-align: top;\n",
       "    }\n",
       "\n",
       "    .dataframe thead th {\n",
       "        text-align: right;\n",
       "    }\n",
       "</style>\n",
       "<table border=\"1\" class=\"dataframe\">\n",
       "  <thead>\n",
       "    <tr style=\"text-align: right;\">\n",
       "      <th></th>\n",
       "      <th>0</th>\n",
       "      <th>1</th>\n",
       "      <th>2</th>\n",
       "    </tr>\n",
       "  </thead>\n",
       "  <tbody>\n",
       "    <tr>\n",
       "      <td>0</td>\n",
       "      <td>SQU6245R</td>\n",
       "      <td>UES9151GS5</td>\n",
       "      <td>DEN-FRA-17:14:20</td>\n",
       "    </tr>\n",
       "    <tr>\n",
       "      <td>1</td>\n",
       "      <td>XXQ4064B</td>\n",
       "      <td>UES9151GS5</td>\n",
       "      <td>JFK-FRA-17:05:17</td>\n",
       "    </tr>\n",
       "    <tr>\n",
       "      <td>2</td>\n",
       "      <td>SOH3431A</td>\n",
       "      <td>EZC9678QI6</td>\n",
       "      <td>ORD-MIA-17:00:49</td>\n",
       "    </tr>\n",
       "    <tr>\n",
       "      <td>3</td>\n",
       "      <td>SOH3431A</td>\n",
       "      <td>ONL0812DH1</td>\n",
       "      <td>ORD-MIA-17:00:49</td>\n",
       "    </tr>\n",
       "    <tr>\n",
       "      <td>4</td>\n",
       "      <td>PME8178S</td>\n",
       "      <td>CYJ0225CH1</td>\n",
       "      <td>DEN-PEK-17:13:29</td>\n",
       "    </tr>\n",
       "    <tr>\n",
       "      <td>...</td>\n",
       "      <td>...</td>\n",
       "      <td>...</td>\n",
       "      <td>...</td>\n",
       "    </tr>\n",
       "    <tr>\n",
       "      <td>495</td>\n",
       "      <td>BER7172M</td>\n",
       "      <td>BWI0520BG6</td>\n",
       "      <td>KUL-LAS-17:26:07</td>\n",
       "    </tr>\n",
       "    <tr>\n",
       "      <td>496</td>\n",
       "      <td>EWH6301Y</td>\n",
       "      <td>LLZ3798PE3</td>\n",
       "      <td>CAN-DFW-17:22:47</td>\n",
       "    </tr>\n",
       "    <tr>\n",
       "      <td>497</td>\n",
       "      <td>KJR6646J</td>\n",
       "      <td>KKP5277HZ7</td>\n",
       "      <td>IAH-BKK-17:26:43</td>\n",
       "    </tr>\n",
       "    <tr>\n",
       "      <td>498</td>\n",
       "      <td>XXQ4064B</td>\n",
       "      <td>JJM4724RF7</td>\n",
       "      <td>JFK-FRA-17:05:17</td>\n",
       "    </tr>\n",
       "    <tr>\n",
       "      <td>499</td>\n",
       "      <td>WSK1289Z</td>\n",
       "      <td>SJD8775RZ4</td>\n",
       "      <td>CLT-vEN-16:59:02</td>\n",
       "    </tr>\n",
       "  </tbody>\n",
       "</table>\n",
       "<p>500 rows × 3 columns</p>\n",
       "</div>"
      ],
      "text/plain": [
       "            0           1                 2\n",
       "0    SQU6245R  UES9151GS5  DEN-FRA-17:14:20\n",
       "1    XXQ4064B  UES9151GS5  JFK-FRA-17:05:17\n",
       "2    SOH3431A  EZC9678QI6  ORD-MIA-17:00:49\n",
       "3    SOH3431A  ONL0812DH1  ORD-MIA-17:00:49\n",
       "4    PME8178S  CYJ0225CH1  DEN-PEK-17:13:29\n",
       "..        ...         ...               ...\n",
       "495  BER7172M  BWI0520BG6  KUL-LAS-17:26:07\n",
       "496  EWH6301Y  LLZ3798PE3  CAN-DFW-17:22:47\n",
       "497  KJR6646J  KKP5277HZ7  IAH-BKK-17:26:43\n",
       "498  XXQ4064B  JJM4724RF7  JFK-FRA-17:05:17\n",
       "499  WSK1289Z  SJD8775RZ4  CLT-vEN-16:59:02\n",
       "\n",
       "[500 rows x 3 columns]"
      ]
     },
     "execution_count": 112,
     "metadata": {},
     "output_type": "execute_result"
    }
   ],
   "source": [
    "results"
   ]
  },
  {
   "cell_type": "code",
   "execution_count": null,
   "metadata": {},
   "outputs": [],
   "source": [
    "for ind in df.index: \n",
    "     print(df['Name'][ind], df['Stream'][ind]) "
   ]
  },
  {
   "cell_type": "code",
   "execution_count": null,
   "metadata": {},
   "outputs": [],
   "source": [
    "#Merge correct flight id\n",
    "flight_id_route.columns = ['Route','correct_Flight_id']\n",
    "pass_data_route = pass_data_slim.merge(flight_id_route, how='outer', on=['Route'])\n",
    "pass_data_route.loc[pass_data_route['correct_Flight_id'].notna(), 'Final_Flight_id'] = pass_data_route['correct_Flight_id']\n",
    "pass_data_route.loc[pass_data_route['correct_Flight_id'].isnull(), 'Final_Flight_id'] = pass_data_route['Flight_id']"
   ]
  },
  {
   "cell_type": "code",
   "execution_count": null,
   "metadata": {},
   "outputs": [],
   "source": [
    "#Merge correct route info\n",
    "flight_id_route.columns = ['Correct_Route','Flight_id']\n",
    "pass_data_route = pass_data_route.merge(flight_id_route, how='outer', on=['Flight_id'])\n",
    "pass_data_route.loc[pass_data_route['Correct_Route'].notna(), 'Final_Route'] = pass_data_route['Correct_Route']\n",
    "pass_data_route.loc[pass_data_route['Correct_Route'].isnull(), 'Final_Route'] = pass_data_route['Route']"
   ]
  },
  {
   "cell_type": "code",
   "execution_count": null,
   "metadata": {},
   "outputs": [],
   "source": [
    "#Select only correct data and rename\n",
    "pass_data_route = pass_data_route[['Passenger_id','Final_Flight_id','Final_Route']]\n",
    "pass_data_route.columns = ['Passenger_id','Flight_id','Route']"
   ]
  },
  {
   "cell_type": "markdown",
   "metadata": {},
   "source": [
    "## Error Correction\n",
    "### Passenger"
   ]
  },
  {
   "cell_type": "code",
   "execution_count": null,
   "metadata": {},
   "outputs": [],
   "source": [
    "format_pass_id = r\"[A-Z][A-Z][A-Z][0-9][0-9][0-9][0-9][A-Z][A-Z][0-9]\"\n",
    "pass_data_route_test=pass_data_route\n",
    "pass_data_route_test['Pass_id_format'] =pass_data_route['Passenger_id'].str.contains(format_pass_id)\n",
    "pass_data_route_test"
   ]
  },
  {
   "cell_type": "code",
   "execution_count": null,
   "metadata": {},
   "outputs": [],
   "source": [
    "#add column to count\n",
    "pass_data_route_test['count'] = '1'"
   ]
  },
  {
   "cell_type": "code",
   "execution_count": null,
   "metadata": {},
   "outputs": [],
   "source": [
    "#select subset of data \n",
    "pass_data_route_test = pass_data_route_test[['Passenger_id'\n",
    "                      ,'Pass_id_format'\n",
    "                      ,'count'\n",
    "                        ]]"
   ]
  },
  {
   "cell_type": "code",
   "execution_count": null,
   "metadata": {},
   "outputs": [],
   "source": [
    "#Group data to see passengers and total flights by passenger id\n",
    "pass_only=pass_data_route_test.groupby(['Passenger_id'\n",
    "                        ,'Pass_id_format'\n",
    "                         ]).count()\n",
    "#reset index\n",
    "pass_only.reset_index(inplace=True)\n",
    "pass_only"
   ]
  },
  {
   "cell_type": "code",
   "execution_count": null,
   "metadata": {},
   "outputs": [],
   "source": [
    "#select only those whose regex is correct \n",
    "## this is not necessary as the second code will remove these, \n",
    "## however it is left here as this will be a better way to check if correct passenger id\n",
    "pass_info_true = pass_only.loc[pass_only['Pass_id_format'] == True]"
   ]
  },
  {
   "cell_type": "code",
   "execution_count": null,
   "metadata": {},
   "outputs": [],
   "source": [
    "#select only those who have more than 1 flight\n",
    "pass_info_true = pass_only.loc[pass_only['count'] != 1]\n",
    "#pass_info_true"
   ]
  },
  {
   "cell_type": "code",
   "execution_count": null,
   "metadata": {},
   "outputs": [],
   "source": [
    "pass_info_false = pass_only.loc[pass_only['count'] == 1]\n",
    "#pass_info_false"
   ]
  },
  {
   "cell_type": "code",
   "execution_count": null,
   "metadata": {},
   "outputs": [],
   "source": [
    "#Create list of false passenger ids\n",
    "false = pass_info_false['Passenger_id']\n",
    "false"
   ]
  },
  {
   "cell_type": "code",
   "execution_count": null,
   "metadata": {},
   "outputs": [],
   "source": [
    "#Create list of true passenger ids\n",
    "true = pass_info_true['Passenger_id']\n",
    "#true"
   ]
  },
  {
   "cell_type": "code",
   "execution_count": null,
   "metadata": {},
   "outputs": [],
   "source": [
    "#create function to find the best match for a given false value and list for true values\n",
    "def best_match(f,t):\n",
    "    global test_best_true\n",
    "    global final_true\n",
    "    test_best_true = []\n",
    "    final_true =[]\n",
    "    for t in true:\n",
    "        test_best_true.append([t,round(SequenceMatcher(None, t, f).ratio(),3)])\n",
    "    test_best_true = pd.DataFrame(test_best_true)\n",
    "    max_true = test_best_true.iloc[test_best_true[1].idxmax(), 0]\n",
    "    final_true.append([f,max_true])\n",
    "    final_true=pd.DataFrame(final_true,columns=['false','true'])\n",
    "   # print(final_true)"
   ]
  },
  {
   "cell_type": "code",
   "execution_count": null,
   "metadata": {},
   "outputs": [],
   "source": [
    "# best_match(f,true)"
   ]
  },
  {
   "cell_type": "code",
   "execution_count": null,
   "metadata": {},
   "outputs": [],
   "source": [
    "#test each false value\n",
    "best_match_results = pd.DataFrame()\n",
    "for f in false:\n",
    "    best_match(f,true)\n",
    "    best_match_results=best_match_results.append(final_true)"
   ]
  },
  {
   "cell_type": "code",
   "execution_count": null,
   "metadata": {},
   "outputs": [],
   "source": [
    "# #create function to find the best match for a given false value and list for true values\n",
    "# def best_match_table(false,true):\n",
    "#     global best_match_results\n",
    "#     best_match_results = pd.DataFrame()\n",
    "#     for f in false:\n",
    "#         global test_best_true\n",
    "#         global final_true\n",
    "#         test_best_true = []\n",
    "#         final_true =[]\n",
    "#         for t in true:\n",
    "#             test_best_true.append([t,round(SequenceMatcher(None, t, f).ratio(),3)])\n",
    "#         test_best_true = pd.DataFrame(test_best_true)\n",
    "#         max_true = test_best_true.iloc[test_best_true[1].idxmax(), 0]\n",
    "#         final_true.append([f,max_true])\n",
    "#         final_true=pd.DataFrame(final_true,columns=['false','true'])\n",
    "#        # print(final_true)\n",
    "#     best_match_results=best_match_results.append(final_true)"
   ]
  },
  {
   "cell_type": "code",
   "execution_count": null,
   "metadata": {},
   "outputs": [],
   "source": [
    "# best_match_table(false,true)"
   ]
  },
  {
   "cell_type": "code",
   "execution_count": null,
   "metadata": {},
   "outputs": [],
   "source": [
    "best_match_results"
   ]
  },
  {
   "attachments": {},
   "cell_type": "markdown",
   "metadata": {},
   "source": [
    "## Objective 1: \n",
    "### Determine the number of flights from each airport; include a list of any airports not used."
   ]
  },
  {
   "cell_type": "code",
   "execution_count": null,
   "metadata": {},
   "outputs": [],
   "source": [
    "airport_list = airport_lat_lon['Airport_IATA_code']\n",
    "airport_list\n",
    "break_route(pass_data_route)\n",
    "from_list = pass_data_route['From_airport_IATA']"
   ]
  },
  {
   "cell_type": "code",
   "execution_count": null,
   "metadata": {},
   "outputs": [],
   "source": [
    "#mapper, where key = airport and value = 1 for each airport in from_list\n",
    "key2val2 = [[a, 1] for a in from_list]\n",
    "mapper = pd.DataFrame(key2val2, columns=['Airport_IATA_code','value'])\n",
    "#mapper\n",
    "\n",
    "#reducer - takes key and val from mapper to provide final key and value\n",
    "reducer=mapper.groupby(['Airport_IATA_code']).sum()\n",
    "reducer\n",
    "reducer.reset_index(inplace=True)"
   ]
  },
  {
   "cell_type": "code",
   "execution_count": null,
   "metadata": {},
   "outputs": [],
   "source": [
    "# merge full list of airports with number of flights from each airport\n",
    "airport_list=pd.DataFrame(airport_list)\n",
    "num_flights = airport_list.merge(reducer, how='outer', on=['Airport_IATA_code'])"
   ]
  },
  {
   "cell_type": "code",
   "execution_count": null,
   "metadata": {},
   "outputs": [],
   "source": [
    "# clean up results\n",
    "num_flights=num_flights.fillna(0)\n",
    "num_flights=num_flights.sort_values(by=['value','Airport_IATA_code'], ascending=[False,True])\n",
    "num_flights.set_index('Airport_IATA_code', inplace=True, drop=True)\n",
    "num_flights"
   ]
  },
  {
   "attachments": {},
   "cell_type": "markdown",
   "metadata": {},
   "source": [
    "## Objective 2\n",
    "### Create a list of flights based on the Flight id, this output should include the passenger Id, relevant IATA/FAA codes, the departure time, the arrival time (times to be converted to HH:MM:SS format), and the flight times."
   ]
  },
  {
   "attachments": {},
   "cell_type": "markdown",
   "metadata": {},
   "source": [
    "## Objective 3\n",
    "### Calculate the number of passengers on each flight."
   ]
  },
  {
   "cell_type": "code",
   "execution_count": null,
   "metadata": {},
   "outputs": [],
   "source": [
    "# pass_data_route\n",
    "# calc_arrive_time(pass_data_route)\n",
    "#num_flights = airport_list.merge(from_counts_df, how='outer', on=['Airport_IATA_code'])"
   ]
  },
  {
   "cell_type": "code",
   "execution_count": null,
   "metadata": {},
   "outputs": [],
   "source": [
    "flights = pass_data_route['Flight_id']"
   ]
  },
  {
   "cell_type": "code",
   "execution_count": null,
   "metadata": {},
   "outputs": [],
   "source": [
    "#mapper, where key = airport and value = 1 for each airport in from_list\n",
    "key2val2 = [[a, 1] for a in flights]\n",
    "mapper = pd.DataFrame(key2val2, columns=['Flight_id','value'])\n",
    "#mapper\n",
    "\n",
    "#reducer - takes key and val from mapper to provide final key and value\n",
    "num_passengers=mapper.groupby(['Flight_id']).sum()\n",
    "#num_passengers\n",
    "#reducer\n",
    "num_passengers.reset_index(inplace=True)"
   ]
  },
  {
   "cell_type": "code",
   "execution_count": null,
   "metadata": {},
   "outputs": [],
   "source": [
    "# clean up results\n",
    "#num_passengers=num_flights.fillna(0)\n",
    "num_passengers=num_passengers.sort_values(by=['value','Flight_id'], ascending=[False,True])\n",
    "num_passengers.set_index('Flight_id', inplace=True, drop=True)\n",
    "num_passengers"
   ]
  },
  {
   "attachments": {},
   "cell_type": "markdown",
   "metadata": {},
   "source": [
    "## Objective 4\n",
    "### Calculate the line-of-sight (nautical) miles for each flight and the total travelled by each passenger and thus output the passenger having earned the highest air miles."
   ]
  },
  {
   "cell_type": "code",
   "execution_count": null,
   "metadata": {},
   "outputs": [],
   "source": [
    "#flight info\n",
    "flight_from = flight_only_deduped[['Flight_id','From_airport_IATA']]\n",
    "flight_dest = flight_only_deduped[['Flight_id','Dest_airport_IATA']]"
   ]
  },
  {
   "cell_type": "code",
   "execution_count": null,
   "metadata": {},
   "outputs": [],
   "source": [
    "#rename columns to allow merge\n",
    "flight_from.columns = ['Flight_id'\n",
    "                        ,'Airport_IATA_code']\n",
    "flight_dest.columns = ['Flight_id'\n",
    "                        ,'Airport_IATA_code']"
   ]
  },
  {
   "cell_type": "code",
   "execution_count": null,
   "metadata": {},
   "outputs": [],
   "source": [
    "#merge from flight with latitude and longitude\n",
    "from_lat_long = flight_from.merge(airport_lat_lon, how='inner', on=['Airport_IATA_code','Airport_IATA_code'])\n",
    "from_lat_long.columns = ['Flight_id'\n",
    "                        ,'From_Airport_IATA_code'\n",
    "                        ,'From_Airport_Name'\n",
    "                        ,'From_Lat'\n",
    "                        ,'From_Lon'\n",
    "                    ]"
   ]
  },
  {
   "cell_type": "code",
   "execution_count": null,
   "metadata": {},
   "outputs": [],
   "source": [
    "#merge dest flight with latitude and longitude\n",
    "dest_lat_lon = flight_dest.merge(airport_lat_lon, how='inner', on=['Airport_IATA_code','Airport_IATA_code'])\n",
    "dest_lat_lon.columns = ['Flight_id'\n",
    "                        ,'Dest_Airport_IATA_code'\n",
    "                        ,'Dest_Airport_Name'\n",
    "                        ,'Dest_Lat'\n",
    "                        ,'Dest_Lon'\n",
    "                    ]"
   ]
  },
  {
   "cell_type": "code",
   "execution_count": null,
   "metadata": {},
   "outputs": [],
   "source": [
    "#merge from flight with latitude and longitude\n",
    "from_dest_lat_lon = from_lat_long.merge(dest_lat_lon, how='outer', on=['Flight_id','Flight_id'])"
   ]
  },
  {
   "cell_type": "code",
   "execution_count": null,
   "metadata": {},
   "outputs": [],
   "source": [
    "from_dest_lat_lon"
   ]
  },
  {
   "cell_type": "code",
   "execution_count": null,
   "metadata": {},
   "outputs": [],
   "source": [
    "# Calculate nautical miles (a^2+b^2=c^2)\n",
    "from_dest_lat_lon['Miles'] = np.sqrt((from_dest_lat_lon['Dest_Lat']-from_dest_lat_lon['From_Lat'])**2\n",
    "+(from_dest_lat_lon['Dest_Lon']-from_dest_lat_lon['From_Lon'])**2)"
   ]
  },
  {
   "cell_type": "code",
   "execution_count": null,
   "metadata": {},
   "outputs": [],
   "source": [
    "# #export results\n",
    "# from_dest_lat_lon.to_csv(r'from_dest_lat_lon.csv')"
   ]
  },
  {
   "cell_type": "code",
   "execution_count": null,
   "metadata": {},
   "outputs": [],
   "source": [
    "# Number of miles per flight \n",
    "miles_flight = from_dest_lat_lon[['Flight_id','Miles']]\n",
    "miles_flight"
   ]
  },
  {
   "cell_type": "code",
   "execution_count": null,
   "metadata": {},
   "outputs": [],
   "source": [
    "#Add flight miles to passenger data\n",
    "obj4_data = pass_data_route.merge(miles_flight, how='outer', on=['Flight_id'])\n",
    "obj4_data"
   ]
  },
  {
   "cell_type": "code",
   "execution_count": null,
   "metadata": {},
   "outputs": [],
   "source": [
    "pass_mil_flight = obj4_data[['Passenger_id','Miles']]"
   ]
  },
  {
   "cell_type": "code",
   "execution_count": null,
   "metadata": {},
   "outputs": [],
   "source": [
    "pass_mil_flight"
   ]
  },
  {
   "cell_type": "code",
   "execution_count": null,
   "metadata": {},
   "outputs": [],
   "source": [
    "key2val2 = pd.DataFrame()\n",
    "for index,row in pass_mil_flight.iterrows():\n",
    "    key2val2=key2val2.append(pass_mil_flight.loc[index])\n",
    "    mapper = pd.DataFrame(key2val2, columns=['Miles','Passenger_id'])\n",
    "#mapper"
   ]
  },
  {
   "cell_type": "code",
   "execution_count": null,
   "metadata": {},
   "outputs": [],
   "source": [
    "#reducer - takes key and val from mapper to provide final key and value\n",
    "miles_per_pass=mapper.groupby(['Passenger_id']).sum().round(1)\n",
    "#reducer\n",
    "miles_per_pass.reset_index(inplace=True)\n",
    "# miles_per_pass"
   ]
  },
  {
   "cell_type": "code",
   "execution_count": null,
   "metadata": {},
   "outputs": [],
   "source": [
    "# clean up results\n",
    "#num_passengers=num_flights.fillna(0)\n",
    "miles_per_pass=miles_per_pass.sort_values(by=['Miles'], ascending=[False])\n",
    "miles_per_pass.set_index('Passenger_id', inplace=True, drop=True)\n",
    "miles_per_pass"
   ]
  },
  {
   "cell_type": "code",
   "execution_count": null,
   "metadata": {},
   "outputs": [],
   "source": []
  },
  {
   "cell_type": "markdown",
   "metadata": {},
   "source": [
    "# old code, maybe useful"
   ]
  },
  {
   "cell_type": "code",
   "execution_count": null,
   "metadata": {},
   "outputs": [],
   "source": [
    "pass_data_df.value_counts(['From_airport_IATA'])"
   ]
  },
  {
   "cell_type": "code",
   "execution_count": null,
   "metadata": {},
   "outputs": [],
   "source": [
    "pass_data_df.groupby(['From_airport_IATA']).count()"
   ]
  },
  {
   "cell_type": "code",
   "execution_count": null,
   "metadata": {},
   "outputs": [],
   "source": [
    "flight_only_grp.isin(flight_only_grp['From_airport_IATA'])"
   ]
  },
  {
   "cell_type": "code",
   "execution_count": null,
   "metadata": {},
   "outputs": [],
   "source": [
    "#pass_data_df.set_index([\"From_airport_IATA\"]).count(level=\"From_airport_IATA\")\n",
    "pass_data_df.count(axis=\"From_airport_IATA\")\n"
   ]
  },
  {
   "cell_type": "code",
   "execution_count": null,
   "metadata": {},
   "outputs": [],
   "source": [
    "#pd.concat([obj_1_list_df, from_counts_df], keys=['Airport_IATA_code','Airport_IATA_code'])\n"
   ]
  },
  {
   "cell_type": "code",
   "execution_count": null,
   "metadata": {},
   "outputs": [],
   "source": [
    "#pass_data_df['Depart_time_epoch'].dt.strftime(\"%m/%d/%y\")\n",
    "#pass_data_df['Depart_time_epoch']=\n",
    "(pd.to_datetime(pass_data_df['Depart_time_epoch'],unit='s')) \n"
   ]
  },
  {
   "cell_type": "code",
   "execution_count": null,
   "metadata": {},
   "outputs": [],
   "source": [
    "obj1 = obj_1_list_df.merge(from_counts_df, how='outer', on=['Airport_IATA_code', 'Airport_IATA_code'])"
   ]
  },
  {
   "cell_type": "code",
   "execution_count": null,
   "metadata": {},
   "outputs": [],
   "source": [
    "if re.match(r\"hello[0-9]+\", 'hello1'):\n",
    "    print('Yes')"
   ]
  },
  {
   "cell_type": "code",
   "execution_count": null,
   "metadata": {},
   "outputs": [],
   "source": [
    "pattern = r\"[A-Z][A-Z][A-Z]\"\n",
    "\n",
    "pd.Series(\n",
    "     [\"DEN\", \"A;S\", \"AM%\", \"3b\", \"03c\", \"4dx\"],\n",
    " ).str.contains(pattern)"
   ]
  },
  {
   "cell_type": "code",
   "execution_count": null,
   "metadata": {},
   "outputs": [],
   "source": [
    "#pass_data_df[pass_data_df['From_airport_IATA'].str.match('DEN')== True]\n",
    "#pass_data_df['From_airport_format']=\n",
    "pass_data_df['From_airport_IATA'].str.match('[A-Z][A-Z][A-Z]')"
   ]
  },
  {
   "cell_type": "code",
   "execution_count": null,
   "metadata": {},
   "outputs": [],
   "source": [
    "#merging by IATA code\n",
    "#select remaining from airports\n",
    "from_values = flight_info_true.From_airport_IATA.unique()\n",
    "dest_values = flight_info_true.Dest_airport_IATA.unique()\n",
    "#turn to dataframe\n",
    "from_values_df = pd.DataFrame(from_values)\n",
    "dest_values_df = pd.DataFrame(dest_values)\n",
    "#rename columns to allow merge\n",
    "from_values_df.columns = ['Airport_IATA_code']\n",
    "dest_values_df.columns = ['Airport_IATA_code']"
   ]
  },
  {
   "cell_type": "code",
   "execution_count": null,
   "metadata": {},
   "outputs": [],
   "source": [
    "from_merge['From_airport_exists']=from_merge['Airport_name'].str.contains(r\"[A-Z]\")\n",
    "dest_merge['Dest_airport_exists']=dest_merge['Airport_name'].str.contains(r\"[A-Z]\")\n",
    "#from_merge[from_merge['Airport_name'].str.contains('NaN')==False]\n",
    "#new_df = df[df[\"col\"].str.contains(word) == False]"
   ]
  },
  {
   "cell_type": "code",
   "execution_count": null,
   "metadata": {},
   "outputs": [],
   "source": [
    "import Levenshtein as lev\n"
   ]
  },
  {
   "cell_type": "code",
   "execution_count": null,
   "metadata": {},
   "outputs": [],
   "source": [
    "import pandas as pd\n",
    "from textdistance import levenshtein\n",
    "\n",
    "attempts = [['passw0rd', 'pasw0rd'],\n",
    "            ['passwrd', 'psword'],\n",
    "            ['psw0rd', 'passwor'],\n",
    "            ['helloworld', 'heloworl']]\n",
    "\n",
    "df=pd.DataFrame(attempts, columns=['password', 'attempt'])\n",
    "\n",
    "df.apply(lambda x: levenshtein.distance(x['password'],  x['attempt']), axis=1)"
   ]
  },
  {
   "cell_type": "code",
   "execution_count": null,
   "metadata": {},
   "outputs": [],
   "source": [
    "#best_match_results_pd[['results','true']] = \n",
    "best_match_results_pd['results'].str.split('-',expand=True)\n",
    "#df[['V','allele']] = df['V'].str.split('-',expand=True)\n"
   ]
  },
  {
   "cell_type": "code",
   "execution_count": null,
   "metadata": {},
   "outputs": [],
   "source": [
    "best_match_results_pd.iloc[1, 0]"
   ]
  },
  {
   "cell_type": "code",
   "execution_count": null,
   "metadata": {},
   "outputs": [],
   "source": [
    "def similar(a, b):\n",
    "    return SequenceMatcher(None, a, b).ratio()\n",
    "similar(\"Apple\",\"Appel\")"
   ]
  },
  {
   "cell_type": "code",
   "execution_count": null,
   "metadata": {},
   "outputs": [],
   "source": [
    "round(SequenceMatcher(None, 'WBE6935NU', 'HCA3158QA6').ratio(),3)\n",
    "round(SequenceMatcher(None, 'UES9151GS5', 'UES915*GS5').ratio(),3)\n",
    "round(SequenceMatcher(None, 'UES915*GS5', 'UES9151GS5').ratio(),3)\n"
   ]
  },
  {
   "cell_type": "code",
   "execution_count": null,
   "metadata": {},
   "outputs": [],
   "source": [
    "install python-Levenshtein"
   ]
  },
  {
   "cell_type": "code",
   "execution_count": null,
   "metadata": {},
   "outputs": [],
   "source": [
    "f = 'SPRb484HA6'\n",
    "test_best_true = pd.DataFrame()\n",
    "for t in true:\n",
    "    ratio = round(SequenceMatcher(None, t, f).ratio(),3)\n",
    "    print(t, ratio)\n",
    "    #test_best_true = test_best_true.append(ratio)\n"
   ]
  },
  {
   "cell_type": "code",
   "execution_count": null,
   "metadata": {},
   "outputs": [],
   "source": [
    "#final_true\n",
    "#str(final_true)[1:-1] \n",
    "#test_best_true\n",
    "#max_true"
   ]
  },
  {
   "cell_type": "code",
   "execution_count": null,
   "metadata": {},
   "outputs": [],
   "source": [
    "# #Calculate epoch Arrival Time\n",
    "# pass_data['Arrive_epoch'] = pass_data['Depart_time_epoch']+pass_data['Flight_time_min']*60\n",
    "# #Convert epoch to datetime\n",
    "# pass_data['Depart_time_datetime'] = pd.to_datetime(pass_data['Depart_time_epoch'],unit='s')\n",
    "# pass_data['Arrive_time_datetime'] = pd.to_datetime(pass_data['Arrive_epoch'],unit='s')"
   ]
  },
  {
   "cell_type": "code",
   "execution_count": null,
   "metadata": {},
   "outputs": [],
   "source": [
    "# #And new datetime formats\n",
    "# pass_data['Depart_day_month']=pass_data['Depart_time_datetime'].dt.strftime(\"%a %d/%b/%Y\")\n",
    "# #pass_data_df['Depart_day_datetime']=pass_data_df['Depart_time_datetime'].dt.strftime(\"%a %d/%b/%Y %H:%M:%S\")\n",
    "# pass_data['Depart_time']=pass_data['Depart_time_datetime'].dt.strftime(\"%H:%M:%S\")\n",
    "# pass_data['Arrive_time']=pass_data['Arrive_time_datetime'].dt.strftime(\"%H:%M:%S\")"
   ]
  },
  {
   "cell_type": "code",
   "execution_count": null,
   "metadata": {},
   "outputs": [],
   "source": [
    "# route_info=pass_data[['Route'\n",
    "#                       ,'From_airport_IATA'\n",
    "#                       ,'Dest_airport_IATA'\n",
    "#                       ,'Depart_day_month'\n",
    "#                       ,'Depart_time'\n",
    "#                       ,'Flight_time_min'\n",
    "#                       ,'Arrive_time'\n",
    "#                      ]]\n",
    "\n",
    "# route_info=route_info.groupby(['Route'\n",
    "#                       ,'From_airport_IATA'\n",
    "#                       ,'Dest_airport_IATA'\n",
    "#                       ,'Depart_day_month'\n",
    "#                       ,'Depart_time'\n",
    "#                       ,'Flight_time_min'\n",
    "#                       ,'Arrive_time'          \n",
    "#                          ]).count()\n",
    "# route_info.reset_index(inplace=True)\n"
   ]
  },
  {
   "cell_type": "code",
   "execution_count": null,
   "metadata": {},
   "outputs": [],
   "source": [
    "# #select subset of data \n",
    "# flight_only_data = pass_data[['Flight_id'\n",
    "#                       ,'From_airport_IATA'\n",
    "#                       ,'Dest_airport_IATA'\n",
    "#                       ,'Depart_day_month'\n",
    "#                       ,'Depart_time'         \n",
    "#                       ,'Flight_time_min'\n",
    "#                       ,'count'\n",
    "#                         ]]\n",
    "# \n",
    "# #Group data by flight\n",
    "# flight_only_data = flight_only_data.groupby(['Flight_id'\n",
    "#                           ,'From_airport_IATA'\n",
    "#                       ,'Dest_airport_IATA'\n",
    "#                       ,'Depart_day_month'\n",
    "#                       ,'Depart_time'         \n",
    "#                       ,'Flight_time_min'           \n",
    "#                          ]).count()\n",
    "# #reset index\n",
    "# flight_only_data.reset_index(inplace=True)\n",
    "\n",
    "# #checks\n",
    "# flight_only_data\n",
    "# len(flight_only_data)\n"
   ]
  },
  {
   "cell_type": "code",
   "execution_count": null,
   "metadata": {},
   "outputs": [],
   "source": [
    "# #select subset of data \n",
    "# flight_only_data = merge_with_dest[['Flight_id'\n",
    "#                       ,'From_airport_IATA'\n",
    "#                       ,'Dest_airport_IATA'\n",
    "#                       ,'Depart_time'\n",
    "#                       ,'count'\n",
    "#                         ]]\n",
    "# #Group data to see total flights\n",
    "# flight_only_data = flight_only_data.groupby(['Flight_id'\n",
    "#                         ,'From_airport_IATA'\n",
    "#                       ,'Dest_airport_IATA'\n",
    "#                       ,'Depart_time'\n",
    "#                          ]).sum()\n",
    "# flight_only_data"
   ]
  },
  {
   "cell_type": "code",
   "execution_count": null,
   "metadata": {},
   "outputs": [],
   "source": [
    "#send to csv for checking\n",
    "#merge_with_dest.to_csv(r'merge_with_dest.csv')"
   ]
  },
  {
   "cell_type": "code",
   "execution_count": null,
   "metadata": {},
   "outputs": [],
   "source": [
    "#pass_data_route.to_csv((r'pass_data_route.csv'))\n",
    "# pass_data_route"
   ]
  },
  {
   "cell_type": "code",
   "execution_count": null,
   "metadata": {},
   "outputs": [],
   "source": [
    "#flight_only_data['Route'] = flight_only_data['From_airport_IATA']+'-' + flight_only_data['Dest_airport_IATA']+'-' + flight_only_data['Depart_time']"
   ]
  },
  {
   "cell_type": "code",
   "execution_count": null,
   "metadata": {},
   "outputs": [],
   "source": [
    "#Add column to allow counting of passengers\n",
    "# pass_data['count']='1'"
   ]
  },
  {
   "cell_type": "markdown",
   "metadata": {},
   "source": [
    "#### For debugging only"
   ]
  },
  {
   "cell_type": "code",
   "execution_count": null,
   "metadata": {},
   "outputs": [],
   "source": [
    "# pass_data = pd.read_csv('AComp_Passenger_data_no_error.csv',header=None)   #comment out as necessary\n",
    "# pass_datet = pd.read_csv('AComp_Passenger_data_no_error_DateTime.csv',header=None)\n",
    "# pass_datetime.columns = ['Passenger_id'\n",
    "#                         ,'Flight_id'\n",
    "#                         ,'From_airport_IATA'\n",
    "#                         ,'Dest_airport_IATA'\n",
    "#                         ,'Departure_date_time'\n",
    "#                         ,'Depart_time_epoch'\n",
    "#                         ,'Flight_time_min'\n",
    "#                         ,'Arrive_date_time'\n",
    "# ]"
   ]
  },
  {
   "cell_type": "markdown",
   "metadata": {},
   "source": [
    "#### Map Reduce testing"
   ]
  },
  {
   "cell_type": "code",
   "execution_count": null,
   "metadata": {},
   "outputs": [],
   "source": [
    "#map flights to key value pair [airport,1]\n",
    "key2val2 = []\n",
    "for a in from_list:\n",
    "    key2val2.append([a,1])\n",
    "\n",
    "key2val2\n",
    "df=pd.DataFrame(key2val2,columns=['key','value'])\n",
    "df\n",
    "#reduce\n",
    "#sum(key2val2)"
   ]
  },
  {
   "cell_type": "code",
   "execution_count": null,
   "metadata": {},
   "outputs": [],
   "source": [
    "#map flights to key value pair [airport,1]\n",
    "val2sum =[]\n",
    "for a in from_list:\n",
    "    val2 =1\n",
    "    val2sum.append(val2)\n",
    "#reduce\n",
    "sum(val2sum)"
   ]
  },
  {
   "cell_type": "markdown",
   "metadata": {},
   "source": [
    "#### Obj 1 old method"
   ]
  },
  {
   "cell_type": "code",
   "execution_count": null,
   "metadata": {},
   "outputs": [],
   "source": [
    "# List of top 30 airports\n",
    "airport_list = airport_lat_lon['Airport_IATA_code']\n",
    "airport_list.columns = ['From_airport_IATA']\n",
    "airport_list = pd.DataFrame(airport_list)"
   ]
  },
  {
   "cell_type": "code",
   "execution_count": null,
   "metadata": {},
   "outputs": [],
   "source": [
    "# Add all route info\n",
    "pass_data_route=pass_data_route.merge(route_info, how='inner', on=['Route'])"
   ]
  },
  {
   "cell_type": "code",
   "execution_count": null,
   "metadata": {},
   "outputs": [],
   "source": [
    "# Count number of departure flights\n",
    "from_df = pass_data_route['From_airport_IATA']\n",
    "from_counts = from_df.value_counts()\n",
    "from_counts_df = pd.DataFrame(from_counts)\n",
    "# move index to column\n",
    "from_counts_df['Airport_IATA_code'] =from_counts_df.index"
   ]
  },
  {
   "cell_type": "code",
   "execution_count": null,
   "metadata": {},
   "outputs": [],
   "source": [
    "#Check data\n",
    "print(from_df)\n",
    "print(from_counts)\n",
    "print(from_counts_df)"
   ]
  },
  {
   "cell_type": "markdown",
   "metadata": {},
   "source": [
    "#### trying to do mapreduce obj 4"
   ]
  },
  {
   "cell_type": "code",
   "execution_count": null,
   "metadata": {},
   "outputs": [],
   "source": [
    "# #mapper, where key = airport and value = 1 for each airport in from_list\n",
    "# key2val2 = [[a, 1] for a in flights]\n",
    "# mapper = pd.DataFrame(key2val2, columns=['Flight_id','value'])\n",
    "# #mapper\n",
    "\n",
    "# #reducer - takes key and val from mapper to provide final key and value\n",
    "# num_passengers=mapper.groupby(['Flight_id']).sum()\n",
    "# #num_passengers\n",
    "# #reducer\n",
    "# num_passengers.reset_index(inplace=True)"
   ]
  },
  {
   "cell_type": "code",
   "execution_count": null,
   "metadata": {},
   "outputs": [],
   "source": [
    "key2val2 = pd.DataFrame()\n",
    "key2val2.append(pass_mil_flight, ignore_index=True)\n",
    "\n",
    "# for index,row in pass_mil_flight.iterrows():\n",
    "#     key2val2.append(pd.Series(['Passenger_id','Miles'], index=pass_mil_flight.columns ), ignore_index=True)\n",
    "#     print(row['Passenger_id'],row['Miles'])\n",
    "#     df=pd.DataFrame(key2val2,columns=['Passenger_id','Miles'])\n",
    "\n",
    "    \n",
    "# >>> df = pd.DataFrame([[1, 2], [3, 4]], columns=list('AB'))\n",
    "# >>> df\n",
    "#    A  B\n",
    "# 0  1  2\n",
    "# 1  3  4\n",
    "# >>> df2 = pd.DataFrame([[5, 6], [7, 8]], columns=list('AB'))\n",
    "# >>> df.append(df2)\n",
    "#    A  B\n",
    "# 0  1  2\n",
    "# 1  3  4\n",
    "# 0  5  6\n",
    "# 1  7  8    \n",
    "    \n",
    "    \n",
    "    \n",
    "#     modDfObj = dfObj.append(pd.Series(['Raju', 21, 'Bangalore', 'India'], index=dfObj.columns ), ignore_index=True)\n",
    "#modDfObj = dfObj.append({'Name' : 'Sahil' , 'Age' : 22} , ignore_index=True)\n",
    "\n",
    "    #map flights to key value pair [airport,1]\n",
    "# key2val2 = []\n",
    "# for a in from_list:\n",
    "#     key2val2.append([a,1])\n",
    "\n",
    "# key2val2\n",
    "# df=pd.DataFrame(key2val2,columns=['key','value'])\n",
    "# df\n",
    "#reduce\n",
    "#sum(key2val2)\n",
    "# key2val2\n",
    "# df=pd.DataFrame(key2val2,columns=['Passenger_id','Miles'])\n",
    "# df\n",
    "#reduce\n",
    "#sum(key2val2)\n",
    "\n",
    "# import pandas as pd\n",
    "\n",
    "# df = pd.DataFrame({'c1': [10, 11, 12], 'c2': [100, 110, 120]})\n",
    "\n"
   ]
  },
  {
   "cell_type": "code",
   "execution_count": null,
   "metadata": {},
   "outputs": [],
   "source": [
    "# import pandas as pd\n",
    "\n",
    "# df = pd.DataFrame({'c1': [10, 11, 12], 'c2': [100, 110, 120]})\n",
    "\n",
    "# for index, row in df.iterrows():\n",
    "#     print(row['c1'], row['c2'])"
   ]
  },
  {
   "cell_type": "code",
   "execution_count": null,
   "metadata": {},
   "outputs": [],
   "source": [
    "#mapper, where key = airport and value = 1 for each airport in from_list\n",
    "# key2val2 = [[p, m] for p in pass_mil_flight]\n",
    "# mapper = pd.DataFrame(key2val2, columns=['Passenger_id','Miles'])\n",
    "# #mapper\n",
    "\n",
    "# #reducer - takes key and val from mapper to provide final key and value\n",
    "# num_passengers=mapper.groupby(['Flight_id']).sum()\n",
    "# #num_passengers\n",
    "# #reducer\n",
    "# num_passengers.reset_index(inplace=True)"
   ]
  },
  {
   "cell_type": "markdown",
   "metadata": {},
   "source": [
    "#### Obj 4 old way"
   ]
  },
  {
   "cell_type": "code",
   "execution_count": null,
   "metadata": {},
   "outputs": [],
   "source": [
    "#Number of miles per flight per passenger\n",
    "pass_flights= pd.pivot_table(obj4_data, values='Miles', index=['Passenger_id'],\n",
    "               columns=['Flight_id']\n",
    "              , aggfunc=np.sum\n",
    "              )\n",
    "pass_flights"
   ]
  },
  {
   "cell_type": "code",
   "execution_count": null,
   "metadata": {},
   "outputs": [],
   "source": [
    "#pass_flights.to_csv(r'pass_flights.csv')"
   ]
  },
  {
   "cell_type": "code",
   "execution_count": null,
   "metadata": {},
   "outputs": [],
   "source": [
    "#Add up flight miles per passenger\n",
    "Pass_miles = pass_flights.sum(axis = 1, skipna = True) \n",
    "Pass_miles_df = pd.DataFrame(Pass_miles)\n",
    "Pass_miles_df.columns = ['Air_miles']\n",
    "Pass_miles_df = Pass_miles_df.sort_values(by=['Air_miles'], ascending=False)\n",
    "Pass_miles_df.to_csv(r'Pass_miles_df.csv')\n",
    "Pass_miles_df"
   ]
  },
  {
   "cell_type": "markdown",
   "metadata": {},
   "source": [
    "#### Trying to do passenger error correction again!"
   ]
  },
  {
   "cell_type": "code",
   "execution_count": null,
   "metadata": {},
   "outputs": [],
   "source": [
    "#create function to find the best match for a given false value and list for true values\n",
    "#def best_match(f,t):\n",
    " #   global test_best_true\n",
    "  #  global final_true\n",
    "for f in false:\n",
    "    test_best_true = []\n",
    "    final_true =[]\n",
    "    for t in true:\n",
    "           test_best_true.append([t,round(SequenceMatcher(None, t, f).ratio(),3)])\n",
    "    test_best_true = pd.DataFrame(test_best_true)\n",
    "    max_true = test_best_true.iloc[test_best_true[1].idxmax(), 0]\n",
    "    final_true.append([f,max_true])\n",
    "    final_true=pd.DataFrame(final_true,columns=['false','true'])\n",
    "    #final_true = pd.DataFrame (final_true)\n",
    "   # print(final_true)\n",
    "\n",
    "# key2val2 = [[a, 1] for a in from_list]\n",
    "# mapper = pd.DataFrame(key2val2, columns=['Airport_IATA_code','value'])\n",
    "\n",
    "# #map flights to key value pair [airport,1]\n",
    "# key2val2 = []\n",
    "# for a in from_list:\n",
    "#     key2val2.append([a,1])\n",
    "\n",
    "# key2val2\n",
    "# df=pd.DataFrame(key2val2,columns=['key','value'])\n",
    "# df\n",
    "#reduce\n",
    "#sum(key2val2)"
   ]
  },
  {
   "cell_type": "code",
   "execution_count": null,
   "metadata": {},
   "outputs": [],
   "source": [
    "final_true\n",
    "key2val2 = pd.DataFrame()\n",
    "for index,row in pass_mil_flight.iterrows():\n",
    "    key2val2=key2val2.append(pass_mil_flight.loc[index])\n",
    "    mapper = pd.DataFrame(key2val2, columns=['Miles','Passenger_id'])\n",
    "#mapper"
   ]
  },
  {
   "cell_type": "code",
   "execution_count": null,
   "metadata": {},
   "outputs": [],
   "source": [
    "for f in false:\n",
    "#def best_match(list):\n",
    "    test_best_true = []\n",
    "    final_true =[]\n",
    "    for t in true:\n",
    "           test_best_true.append([t,round(SequenceMatcher(None, t, f).ratio(),3)])\n",
    "    test_best_true = pd.DataFrame(test_best_true)\n",
    "    max_true = test_best_true.iloc[test_best_true[1].idxmax(), 0]\n",
    "    final_true.append([f,max_true])\n",
    "    final_true=pd.DataFrame(final_true,columns=['false','true'])\n"
   ]
  },
  {
   "cell_type": "code",
   "execution_count": null,
   "metadata": {},
   "outputs": [],
   "source": [
    "# final_true"
   ]
  },
  {
   "cell_type": "code",
   "execution_count": null,
   "metadata": {},
   "outputs": [],
   "source": [
    "# final_true\n",
    "# key2val2 = pd.DataFrame()\n",
    "# for index,row in pass_mil_flight.iterrows():\n",
    "#     key2val2=key2val2.append(pass_mil_flight.loc[index])\n",
    "#     mapper = pd.DataFrame(key2val2, columns=['Miles','Passenger_id'])\n",
    "# #mapper"
   ]
  },
  {
   "cell_type": "code",
   "execution_count": null,
   "metadata": {},
   "outputs": [],
   "source": [
    "# #turn into dataframe\n",
    "# best_match_results_pd=pd.DataFrame (best_match_results)\n",
    "# best_match_results_pd.columns = ['results']\n",
    "# best_match_results_pd\n",
    "# #obj_1_list.columns = ['From_airport_IATA']"
   ]
  },
  {
   "cell_type": "code",
   "execution_count": null,
   "metadata": {},
   "outputs": [],
   "source": [
    "#pass_data_route['From_airport_IATA']\n",
    "#best_match_results_pd['results'].str.split('-',expand=True)\n",
    "#route(pass_data_route)\n",
    "pass_data_route\n",
    "route_info"
   ]
  },
  {
   "cell_type": "markdown",
   "metadata": {},
   "source": [
    "#### Previous obj 2 "
   ]
  },
  {
   "cell_type": "code",
   "execution_count": null,
   "metadata": {},
   "outputs": [],
   "source": [
    "# #obj2_results = \n",
    "# pass_data_route.groupby(['Route'\n",
    "#                       ,'Flight_id'\n",
    "#                       ,'From_airport_IATA'\n",
    "#                       ,'Dest_airport_IATA'\n",
    "#                       ,'Depart_day_month'\n",
    "#                       ,'Depart_time'\n",
    "#                       ,'Arrive_time'\n",
    "#                       ,'Flight_time_min']).count()\n",
    "# #reset index as columns\n",
    "# #obj2_results.reset_index(inplace=True)\n",
    "# #obj2_results"
   ]
  },
  {
   "cell_type": "markdown",
   "metadata": {},
   "source": [
    "#### Old Flight error correction"
   ]
  },
  {
   "cell_type": "code",
   "execution_count": null,
   "metadata": {},
   "outputs": [],
   "source": [
    "#correct formats\n",
    "format_IATA = r\"[A-Z][A-Z][A-Z]\"\n",
    "format_flight_id = r\"[A-Z][A-Z][A-Z][0-9][0-9][0-9][0-9][A-Z]\"\n",
    "\n",
    "#format_pass_id = r\"[A-Z][A-Z][A-Z][0-9][0-9][0-9][0-9][A-Z][A-Z][0-9]\"\n",
    "#flight_only_data['Pass_id_format'] =flight_only_data['Passenger_id'].str.contains(format_pass_id)\n",
    "\n",
    "#add column indicating if correct\n",
    "flight_only_data['From_airport_format'] =flight_only_data['From_airport_IATA'].str.contains(format_IATA)\n",
    "flight_only_data['Dest_airport_format'] =flight_only_data['Dest_airport_IATA'].str.contains(format_IATA)\n",
    "flight_only_data['Flight_id_format'] =flight_only_data['Flight_id'].str.contains(format_flight_id)\n",
    "\n",
    "#add column indicating if all flight regex correct\n",
    "flight_only_data['Flight_info_correct']=flight_only_data.all(axis='columns')\n",
    "\n",
    "#select only those whose regex is correct\n",
    "flight_info_true = flight_only_data.loc[flight_only_data['Flight_info_correct'] == True]\n"
   ]
  },
  {
   "cell_type": "code",
   "execution_count": null,
   "metadata": {},
   "outputs": [],
   "source": [
    "#Take True airport values, change column names to enable merge\n",
    "\n",
    "true_airports_from = pd.DataFrame(airport_lat_lon.Airport_IATA_code.unique())\n",
    "#rename columns to allow merge\n",
    "true_airports_from.columns = ['From_airport_IATA']\n",
    "#add column to know if exists\n",
    "true_airports_from['From_airport_exists']=True\n",
    "\n",
    "true_airports_dest = pd.DataFrame(airport_lat_lon.Airport_IATA_code.unique())\n",
    "#rename columns to allow merge\n",
    "true_airports_dest.columns = ['Dest_airport_IATA']\n",
    "#add column to know if exists\n",
    "true_airports_dest['Dest_airport_exists']=True\n",
    "\n",
    "#merge with from\n",
    "merge_with_from=flight_info_true.merge(true_airports_from\n",
    "                     , how='outer', on=['From_airport_IATA'])\n",
    "#merge with dest\n",
    "merge_with_dest=merge_with_from.merge(true_airports_dest\n",
    "                     , how='outer', on=['Dest_airport_IATA'])\n",
    "#check data\n",
    "#merge_with_dest\n",
    "\n",
    "#drop NaNs - any that are not in the true airport list\n",
    "merge_with_dest=merge_with_dest.dropna(subset=['From_airport_exists', 'Dest_airport_exists'])\n"
   ]
  },
  {
   "cell_type": "code",
   "execution_count": null,
   "metadata": {},
   "outputs": [],
   "source": [
    "\n",
    "#select only flight info \n",
    "flight_only_data = merge_with_dest[flight_info]\n",
    "#add a column to allow count\n",
    "#add_1(flight_only_data)\n",
    "#Group data by flight\n",
    "flight_only_data = flight_only_data.groupby(flight_info).sum()\n",
    "#reset index\n",
    "flight_only_data.reset_index(inplace=True)"
   ]
  },
  {
   "cell_type": "code",
   "execution_count": null,
   "metadata": {},
   "outputs": [],
   "source": [
    "#sort, route in alpha-numeric order, count of passenger id in descending (lowest value last)\n",
    "flight_only_data=flight_only_data.sort_values(by=['Route','Passenger_id']\n",
    "                             , ascending=[True,False]\n",
    "                             , na_position='first')"
   ]
  },
  {
   "cell_type": "code",
   "execution_count": null,
   "metadata": {},
   "outputs": [],
   "source": [
    "# Remove duplicate with lowest number of passenger ids\n",
    "flight_only_data['Route_dupe']=flight_only_data['Route'].duplicated()\n",
    "flight_only_deduped = flight_only_data[flight_only_data.Route_dupe == False]"
   ]
  },
  {
   "cell_type": "code",
   "execution_count": null,
   "metadata": {},
   "outputs": [],
   "source": [
    "len(flight_only_deduped)"
   ]
  }
 ],
 "metadata": {
  "kernelspec": {
   "display_name": "Python 3",
   "language": "python",
   "name": "python3"
  },
  "language_info": {
   "codemirror_mode": {
    "name": "ipython",
    "version": 3
   },
   "file_extension": ".py",
   "mimetype": "text/x-python",
   "name": "python",
   "nbconvert_exporter": "python",
   "pygments_lexer": "ipython3",
   "version": "3.7.4"
  }
 },
 "nbformat": 4,
 "nbformat_minor": 2
}
