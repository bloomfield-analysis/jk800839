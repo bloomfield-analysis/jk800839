{
 "cells": [
  {
   "cell_type": "markdown",
   "metadata": {},
   "source": [
    "# CSMCC16 Flight Coursework"
   ]
  },
  {
   "cell_type": "markdown",
   "metadata": {},
   "source": [
    "## Set up"
   ]
  },
  {
   "cell_type": "markdown",
   "metadata": {},
   "source": [
    "### Import packages"
   ]
  },
  {
   "cell_type": "code",
   "execution_count": 1,
   "metadata": {},
   "outputs": [],
   "source": [
    "import pandas as pd\n",
    "import datetime\n",
    "from difflib import SequenceMatcher\n",
    "import PySimpleGUI as sg\n",
    "import math"
   ]
  },
  {
   "cell_type": "markdown",
   "metadata": {},
   "source": [
    "### Create Functions"
   ]
  },
  {
   "cell_type": "code",
   "execution_count": 2,
   "metadata": {},
   "outputs": [],
   "source": [
    "#calculate datetime values from epoch and arrival time\n",
    "def calc_arrive_time(df):\n",
    "    df['Arrive_epoch'] = pass_data['Depart_time_epoch']+df['Flight_time_min']*60\n",
    "    df['Depart_time_datetime'] = pd.to_datetime(df['Depart_time_epoch'],unit='s')\n",
    "    df['Arrive_time_datetime'] = pd.to_datetime(df['Arrive_epoch'],unit='s')\n",
    "    df['Depart_time']=df['Depart_time_datetime'].dt.strftime(\"%H:%M:%S\")"
   ]
  },
  {
   "cell_type": "code",
   "execution_count": 3,
   "metadata": {},
   "outputs": [],
   "source": [
    "#create route (to use as unique id)\n",
    "def route(df):\n",
    "    df['Route'] = df['From_airport_IATA']+'-' + df['Dest_airport_IATA']+'-' + df['Depart_time']"
   ]
  },
  {
   "cell_type": "code",
   "execution_count": 4,
   "metadata": {},
   "outputs": [],
   "source": [
    "#break route for details\n",
    "def break_route(df):\n",
    "    df[['From_airport_IATA','Dest_airport_IATA','Depart_time']]=df['Route'].str.split('-',expand=True)"
   ]
  },
  {
   "cell_type": "code",
   "execution_count": 5,
   "metadata": {},
   "outputs": [],
   "source": [
    "# Remove any rows that do not fit good_format\n",
    "def remove_bad_format(df,column,good_format):\n",
    "    df =df.loc[df[column].str.contains(good_format)==True]\n",
    "#add reset index?\n",
    "    return df"
   ]
  },
  {
   "cell_type": "code",
   "execution_count": 6,
   "metadata": {},
   "outputs": [],
   "source": [
    "# Remove row if not in a given list\n",
    "def remove_list(df,column,list1):\n",
    "    df = df[df[column].isin(list1)]\n",
    "#     df.reset_index(inplace=True, drop = True)\n",
    "    return df   "
   ]
  },
  {
   "cell_type": "code",
   "execution_count": 7,
   "metadata": {},
   "outputs": [],
   "source": [
    "# Calculate number of passengers per flights\n",
    "def pass_p_flight(df):\n",
    "    df2 = df[['Flight_id','Passenger_id']]\n",
    "    df_new = df2.groupby('Flight_id').count()\n",
    "#     df_new.reset_index(inplace=True, drop = True)\n",
    "    return df_new "
   ]
  },
  {
   "cell_type": "code",
   "execution_count": 8,
   "metadata": {},
   "outputs": [],
   "source": [
    "def remove_if_1(df,column):\n",
    "    df = df.loc[df[column]!=1]\n",
    "    df.reset_index(inplace=True)\n",
    "    return df"
   ]
  },
  {
   "cell_type": "code",
   "execution_count": 13,
   "metadata": {},
   "outputs": [],
   "source": [
    "# to view all 500 records, not top 5 and bottom 5\n",
    "pd.set_option(\"display.max_rows\", None, \"display.max_columns\", None)"
   ]
  },
  {
   "cell_type": "markdown",
   "metadata": {},
   "source": [
    "### GUI settings"
   ]
  },
  {
   "cell_type": "code",
   "execution_count": 9,
   "metadata": {},
   "outputs": [
    {
     "data": {
      "text/plain": [
       "True"
      ]
     },
     "execution_count": 9,
     "metadata": {},
     "output_type": "execute_result"
    }
   ],
   "source": [
    "sg.SetOptions(\n",
    "    background_color='#152238',\n",
    "       text_element_background_color='#152238',\n",
    "       element_background_color='#152238',\n",
    "       text_color='#FFFFFF',\n",
    "       scrollbar_color=None,\n",
    "       input_elements_background_color='#FFFFFF',\n",
    "       progress_meter_color = ('green', 'blue')\n",
    "#        button_color=('white','#475841')\n",
    "    )"
   ]
  },
  {
   "cell_type": "markdown",
   "metadata": {},
   "source": [
    "## Import Data"
   ]
  },
  {
   "cell_type": "code",
   "execution_count": 10,
   "metadata": {},
   "outputs": [],
   "source": [
    "#import csv as dataframe\n",
    "pass_data = pd.DataFrame(pd.read_csv('AComp_Passenger_data.csv',header=None))\n",
    "airport_lat_lon = pd.DataFrame(pd.read_csv('Top30_airports_LatLong.csv',header=None))"
   ]
  },
  {
   "cell_type": "code",
   "execution_count": 11,
   "metadata": {},
   "outputs": [],
   "source": [
    "# Add Column Names\n",
    "pass_data.columns = ['Passenger_id'\n",
    "                        ,'Flight_id'\n",
    "                        ,'From_airport_IATA'\n",
    "                        ,'Dest_airport_IATA'\n",
    "                        ,'Depart_time_epoch'\n",
    "                        ,'Flight_time_min']\n",
    "airport_lat_lon.columns = ['Airport_name'\n",
    "                        ,'Airport_IATA_code'\n",
    "                        ,'Latitude'\n",
    "                        ,'Longitude']"
   ]
  },
  {
   "cell_type": "markdown",
   "metadata": {},
   "source": [
    "### Add extra columns"
   ]
  },
  {
   "cell_type": "code",
   "execution_count": 14,
   "metadata": {},
   "outputs": [],
   "source": [
    "#Add flight time info \n",
    "calc_arrive_time(pass_data)"
   ]
  },
  {
   "cell_type": "markdown",
   "metadata": {},
   "source": [
    "## Error Correction"
   ]
  },
  {
   "cell_type": "markdown",
   "metadata": {},
   "source": [
    "### Remove missing values"
   ]
  },
  {
   "cell_type": "code",
   "execution_count": 12,
   "metadata": {},
   "outputs": [],
   "source": [
    "#Remove values where passenger id and flight id are missing\n",
    "pass_data=pass_data.dropna(subset=['Flight_id','Passenger_id'])"
   ]
  },
  {
   "cell_type": "markdown",
   "metadata": {},
   "source": [
    "### Flight data only"
   ]
  },
  {
   "cell_type": "code",
   "execution_count": 15,
   "metadata": {},
   "outputs": [],
   "source": [
    "#select subset of data \n",
    "flight_info = ['Flight_id'\n",
    "                      ,'From_airport_IATA'\n",
    "                      ,'Dest_airport_IATA'\n",
    "                      ,'Depart_time'         \n",
    "                        ]\n",
    "flights = pass_data[flight_info]\n",
    "#Group data by flight\n",
    "flights = flights.groupby(flight_info).count()\n",
    "#reset index\n",
    "flights.reset_index(inplace=True)\n",
    "#add route info\n",
    "route(flights)\n",
    "# flights"
   ]
  },
  {
   "cell_type": "code",
   "execution_count": 16,
   "metadata": {},
   "outputs": [],
   "source": [
    "#Remove flights that do not fit the airport format\n",
    "format_IATA = r\"[A-Z][A-Z][A-Z]\"\n",
    "flights=remove_bad_format(flights,'From_airport_IATA',format_IATA)\n",
    "flights=remove_bad_format(flights,'Dest_airport_IATA',format_IATA)"
   ]
  },
  {
   "cell_type": "code",
   "execution_count": 17,
   "metadata": {},
   "outputs": [],
   "source": [
    "#Remove flights that do not fit the flight id format\n",
    "format_flightid = r\"[A-Z][A-Z][A-Z][0-9][0-9][0-9][0-9][A-Z]\"\n",
    "flights=remove_bad_format(flights,'Flight_id',format_flightid)"
   ]
  },
  {
   "cell_type": "code",
   "execution_count": 18,
   "metadata": {},
   "outputs": [],
   "source": [
    "# Remove rows where airport is not in airport list\n",
    "flights = remove_list(flights\n",
    "                      ,'From_airport_IATA'\n",
    "                      ,airport_lat_lon['Airport_IATA_code'\n",
    "                                      ])\n",
    "flights = remove_list(flights\n",
    "                      ,'Dest_airport_IATA'\n",
    "                      ,airport_lat_lon['Airport_IATA_code'\n",
    "                                      ])"
   ]
  },
  {
   "cell_type": "code",
   "execution_count": 19,
   "metadata": {},
   "outputs": [],
   "source": [
    "# Calculate flights per passenger\n",
    "flights_pass = pass_p_flight(pass_data)\n",
    "# Remove if just 1 flight\n",
    "flights_pp = remove_if_1(flights_pass,'Passenger_id')\n",
    "# flights_pp"
   ]
  },
  {
   "cell_type": "code",
   "execution_count": 20,
   "metadata": {},
   "outputs": [],
   "source": [
    "# Final flight list, only keep flights in the flight id list\n",
    "flights = remove_list(flights,'Flight_id',flights_pp['Flight_id'])"
   ]
  },
  {
   "cell_type": "code",
   "execution_count": 21,
   "metadata": {},
   "outputs": [],
   "source": [
    "flights.reset_index(inplace=True, drop = True)"
   ]
  },
  {
   "cell_type": "code",
   "execution_count": 22,
   "metadata": {},
   "outputs": [],
   "source": [
    "# flights"
   ]
  },
  {
   "cell_type": "markdown",
   "metadata": {},
   "source": [
    "## add to passenger data"
   ]
  },
  {
   "cell_type": "code",
   "execution_count": 23,
   "metadata": {},
   "outputs": [],
   "source": [
    "#Add route info to pass_data\n",
    "route(pass_data)\n",
    "# pass_data"
   ]
  },
  {
   "cell_type": "code",
   "execution_count": 24,
   "metadata": {},
   "outputs": [],
   "source": [
    "#Select data required\n",
    "pass_data_slim = pass_data[['Passenger_id','Flight_id','Route']]\n",
    "# pass_data_slim"
   ]
  },
  {
   "cell_type": "code",
   "execution_count": 25,
   "metadata": {},
   "outputs": [],
   "source": [
    "# correct flight info\n",
    "def correct_flight_err (df,column1,column2):\n",
    "    for ind in df.index:\n",
    "        if (df[column1][ind] in flights[column1].to_list()) == False:\n",
    "            #  if column 1 is wrong, use column 2\n",
    "            use_column2 = df[column2][ind]\n",
    "            #  get the row number of correct value\n",
    "            row = flights[flights[column2] == use_column2].index[0]\n",
    "            #  take the correct value from flights table\n",
    "            df.loc[ind,column1]=flights[column1][row]\n",
    "    return df"
   ]
  },
  {
   "cell_type": "code",
   "execution_count": 26,
   "metadata": {},
   "outputs": [],
   "source": [
    "# pass_data_slim"
   ]
  },
  {
   "cell_type": "code",
   "execution_count": 27,
   "metadata": {},
   "outputs": [],
   "source": [
    "def pass_p_flight(df):\n",
    "    df2 = pass_data_slim[['Flight_id','Passenger_id']]\n",
    "    df_new = df2.groupby('Flight_id').count()\n",
    "#     df_new.reset_index(inplace=True)\n",
    "    return df_new "
   ]
  },
  {
   "cell_type": "code",
   "execution_count": 28,
   "metadata": {},
   "outputs": [
    {
     "name": "stderr",
     "output_type": "stream",
     "text": [
      "/opt/anaconda3/lib/python3.7/site-packages/pandas/core/indexing.py:205: SettingWithCopyWarning: \n",
      "A value is trying to be set on a copy of a slice from a DataFrame\n",
      "\n",
      "See the caveats in the documentation: http://pandas.pydata.org/pandas-docs/stable/user_guide/indexing.html#returning-a-view-versus-a-copy\n",
      "  self._setitem_with_indexer(indexer, value)\n",
      "/opt/anaconda3/lib/python3.7/site-packages/ipykernel_launcher.py:10: SettingWithCopyWarning: \n",
      "A value is trying to be set on a copy of a slice from a DataFrame\n",
      "\n",
      "See the caveats in the documentation: http://pandas.pydata.org/pandas-docs/stable/user_guide/indexing.html#returning-a-view-versus-a-copy\n",
      "  # Remove the CWD from sys.path while we load stuff.\n"
     ]
    }
   ],
   "source": [
    "pass_data_slim = correct_flight_err(pass_data_slim,'Route','Flight_id')\n",
    "pass_data_slim = correct_flight_err(pass_data_slim,'Flight_id','Route')"
   ]
  },
  {
   "cell_type": "markdown",
   "metadata": {},
   "source": [
    "## Error Correction\n",
    "### Passenger"
   ]
  },
  {
   "cell_type": "code",
   "execution_count": 29,
   "metadata": {},
   "outputs": [],
   "source": [
    "#Remove flights that do not fit the airport format\n",
    "format_pass_id = r\"[A-Z][A-Z][A-Z][0-9][0-9][0-9][0-9][A-Z][A-Z][0-9]\"\n",
    "# pass_data_route=\n",
    "freq_fliers = remove_bad_format(pass_data_slim,'Passenger_id',format_pass_id)\n",
    "# freq_fliers"
   ]
  },
  {
   "cell_type": "code",
   "execution_count": 30,
   "metadata": {},
   "outputs": [],
   "source": [
    "def flight_per_pass(df):\n",
    "    df2 = df[['Flight_id','Passenger_id']]\n",
    "    df_new = df2.groupby('Passenger_id').count()\n",
    "    df_new.reset_index(inplace=True)\n",
    "    return df_new "
   ]
  },
  {
   "cell_type": "code",
   "execution_count": 31,
   "metadata": {},
   "outputs": [],
   "source": [
    "freq_fliers_pf=flight_per_pass(freq_fliers)\n",
    "# freq_fliers_pf"
   ]
  },
  {
   "cell_type": "code",
   "execution_count": 32,
   "metadata": {},
   "outputs": [],
   "source": [
    "#remove poor format\n",
    "format_pass_id = r\"[A-Z][A-Z][A-Z][0-9][0-9][0-9][0-9][A-Z][A-Z][0-9]\"\n",
    "freq_fliers_pf=remove_bad_format(freq_fliers_pf,'Passenger_id',format_pass_id)"
   ]
  },
  {
   "cell_type": "code",
   "execution_count": 33,
   "metadata": {},
   "outputs": [],
   "source": [
    "freq_fliers_pf = remove_if_1(freq_fliers_pf,'Flight_id')\n",
    "# freq_fliers_pf"
   ]
  },
  {
   "cell_type": "code",
   "execution_count": 34,
   "metadata": {},
   "outputs": [],
   "source": [
    "# Update passenger id bsed on a checklist\n",
    "\n",
    "def update_pass_id(df,check_list):\n",
    "        true = check_list.to_list()\n",
    "        for ind in pass_data_slim.index:\n",
    "            f = df['Passenger_id'][ind]\n",
    "            # if the vlaue is not in the checklist...\n",
    "            if (f in true)==False:\n",
    "                test_best_true = []\n",
    "                final_true = []\n",
    "                # Check against all true values\n",
    "                for t in true:\n",
    "                    # SequesnceMatch Ratio will provide a similarity score\n",
    "                        test_best_true.append([t,round(SequenceMatcher(None, t, f).ratio(),3)])\n",
    "                test_best_true = pd.DataFrame(test_best_true)\n",
    "                # Replace the false value with the true value that has highest score\n",
    "#                 df['Passenger_id'][ind]=test_best_true.iloc[test_best_true[1].idxmax(), 0]\n",
    "                df.loc[ind,'Passenger_id']=test_best_true.iloc[test_best_true[1].idxmax(), 0]\n",
    "#                 data.loc[data.bidder == 'parakeet2004', 'bidderrate'] = 100\n",
    "\n",
    "        return df"
   ]
  },
  {
   "cell_type": "code",
   "execution_count": 35,
   "metadata": {},
   "outputs": [
    {
     "name": "stderr",
     "output_type": "stream",
     "text": [
      "/opt/anaconda3/lib/python3.7/site-packages/ipykernel_launcher.py:18: SettingWithCopyWarning: \n",
      "A value is trying to be set on a copy of a slice from a DataFrame\n",
      "\n",
      "See the caveats in the documentation: http://pandas.pydata.org/pandas-docs/stable/user_guide/indexing.html#returning-a-view-versus-a-copy\n"
     ]
    }
   ],
   "source": [
    "pass_data_slim = update_pass_id(pass_data_slim,freq_fliers_pf['Passenger_id'])"
   ]
  },
  {
   "cell_type": "code",
   "execution_count": 36,
   "metadata": {},
   "outputs": [],
   "source": [
    "pass_data_slim.reset_index(inplace=True, drop = True)\n",
    "# pass_data_slim"
   ]
  },
  {
   "cell_type": "markdown",
   "metadata": {},
   "source": [
    "## Objective 1: \n",
    "### Determine the number of flights from each airport; include a list of any airports not used."
   ]
  },
  {
   "cell_type": "code",
   "execution_count": 37,
   "metadata": {},
   "outputs": [
    {
     "name": "stderr",
     "output_type": "stream",
     "text": [
      "/opt/anaconda3/lib/python3.7/site-packages/pandas/core/frame.py:3494: SettingWithCopyWarning: \n",
      "A value is trying to be set on a copy of a slice from a DataFrame.\n",
      "Try using .loc[row_indexer,col_indexer] = value instead\n",
      "\n",
      "See the caveats in the documentation: http://pandas.pydata.org/pandas-docs/stable/user_guide/indexing.html#returning-a-view-versus-a-copy\n",
      "  self[k1] = value[k2]\n"
     ]
    }
   ],
   "source": [
    "break_route(pass_data_slim)\n",
    "from_list = pass_data_slim['From_airport_IATA'].to_list()"
   ]
  },
  {
   "cell_type": "code",
   "execution_count": 38,
   "metadata": {},
   "outputs": [],
   "source": [
    "#mapper, where key = airport and value = 1 for each airport in from_list\n",
    "key2val2 = [[a, 1] for a in from_list]\n",
    "mapper = pd.DataFrame(key2val2, columns=['Airport_IATA_code','value'])\n",
    "#mapper\n",
    "\n",
    "#reducer - takes key and val from mapper to provide final key and value\n",
    "reducer=mapper.groupby(['Airport_IATA_code']).sum()\n",
    "reducer\n",
    "reducer.reset_index(inplace=True)"
   ]
  },
  {
   "cell_type": "code",
   "execution_count": 39,
   "metadata": {},
   "outputs": [],
   "source": [
    "# merge full list of airports with number of flights from each airport\n",
    "airport_list = pd.DataFrame(airport_lat_lon['Airport_IATA_code'])\n",
    "# airport_list=airport_list)\n",
    "num_flights = airport_list.merge(reducer, how='outer', on=['Airport_IATA_code'])"
   ]
  },
  {
   "cell_type": "code",
   "execution_count": 40,
   "metadata": {},
   "outputs": [
    {
     "data": {
      "text/html": [
       "<div>\n",
       "<style scoped>\n",
       "    .dataframe tbody tr th:only-of-type {\n",
       "        vertical-align: middle;\n",
       "    }\n",
       "\n",
       "    .dataframe tbody tr th {\n",
       "        vertical-align: top;\n",
       "    }\n",
       "\n",
       "    .dataframe thead th {\n",
       "        text-align: right;\n",
       "    }\n",
       "</style>\n",
       "<table border=\"1\" class=\"dataframe\">\n",
       "  <thead>\n",
       "    <tr style=\"text-align: right;\">\n",
       "      <th></th>\n",
       "      <th>value</th>\n",
       "    </tr>\n",
       "    <tr>\n",
       "      <th>Airport_IATA_code</th>\n",
       "      <th></th>\n",
       "    </tr>\n",
       "  </thead>\n",
       "  <tbody>\n",
       "    <tr>\n",
       "      <td>DEN</td>\n",
       "      <td>46.0</td>\n",
       "    </tr>\n",
       "    <tr>\n",
       "      <td>CAN</td>\n",
       "      <td>37.0</td>\n",
       "    </tr>\n",
       "    <tr>\n",
       "      <td>IAH</td>\n",
       "      <td>37.0</td>\n",
       "    </tr>\n",
       "    <tr>\n",
       "      <td>ATL</td>\n",
       "      <td>36.0</td>\n",
       "    </tr>\n",
       "    <tr>\n",
       "      <td>KUL</td>\n",
       "      <td>33.0</td>\n",
       "    </tr>\n",
       "    <tr>\n",
       "      <td>ORD</td>\n",
       "      <td>33.0</td>\n",
       "    </tr>\n",
       "    <tr>\n",
       "      <td>CGK</td>\n",
       "      <td>27.0</td>\n",
       "    </tr>\n",
       "    <tr>\n",
       "      <td>JFK</td>\n",
       "      <td>25.0</td>\n",
       "    </tr>\n",
       "    <tr>\n",
       "      <td>LHR</td>\n",
       "      <td>25.0</td>\n",
       "    </tr>\n",
       "    <tr>\n",
       "      <td>CDG</td>\n",
       "      <td>21.0</td>\n",
       "    </tr>\n",
       "    <tr>\n",
       "      <td>CLT</td>\n",
       "      <td>21.0</td>\n",
       "    </tr>\n",
       "    <tr>\n",
       "      <td>PVG</td>\n",
       "      <td>20.0</td>\n",
       "    </tr>\n",
       "    <tr>\n",
       "      <td>BKK</td>\n",
       "      <td>17.0</td>\n",
       "    </tr>\n",
       "    <tr>\n",
       "      <td>LAS</td>\n",
       "      <td>17.0</td>\n",
       "    </tr>\n",
       "    <tr>\n",
       "      <td>AMS</td>\n",
       "      <td>15.0</td>\n",
       "    </tr>\n",
       "    <tr>\n",
       "      <td>FCO</td>\n",
       "      <td>15.0</td>\n",
       "    </tr>\n",
       "    <tr>\n",
       "      <td>MUC</td>\n",
       "      <td>14.0</td>\n",
       "    </tr>\n",
       "    <tr>\n",
       "      <td>HND</td>\n",
       "      <td>13.0</td>\n",
       "    </tr>\n",
       "    <tr>\n",
       "      <td>MAD</td>\n",
       "      <td>13.0</td>\n",
       "    </tr>\n",
       "    <tr>\n",
       "      <td>PEK</td>\n",
       "      <td>13.0</td>\n",
       "    </tr>\n",
       "    <tr>\n",
       "      <td>DFW</td>\n",
       "      <td>11.0</td>\n",
       "    </tr>\n",
       "    <tr>\n",
       "      <td>MIA</td>\n",
       "      <td>11.0</td>\n",
       "    </tr>\n",
       "    <tr>\n",
       "      <td>DXB</td>\n",
       "      <td>0.0</td>\n",
       "    </tr>\n",
       "    <tr>\n",
       "      <td>FRA</td>\n",
       "      <td>0.0</td>\n",
       "    </tr>\n",
       "    <tr>\n",
       "      <td>HKG</td>\n",
       "      <td>0.0</td>\n",
       "    </tr>\n",
       "    <tr>\n",
       "      <td>IST</td>\n",
       "      <td>0.0</td>\n",
       "    </tr>\n",
       "    <tr>\n",
       "      <td>LAX</td>\n",
       "      <td>0.0</td>\n",
       "    </tr>\n",
       "    <tr>\n",
       "      <td>PHX</td>\n",
       "      <td>0.0</td>\n",
       "    </tr>\n",
       "    <tr>\n",
       "      <td>SFO</td>\n",
       "      <td>0.0</td>\n",
       "    </tr>\n",
       "    <tr>\n",
       "      <td>SIN</td>\n",
       "      <td>0.0</td>\n",
       "    </tr>\n",
       "  </tbody>\n",
       "</table>\n",
       "</div>"
      ],
      "text/plain": [
       "                   value\n",
       "Airport_IATA_code       \n",
       "DEN                 46.0\n",
       "CAN                 37.0\n",
       "IAH                 37.0\n",
       "ATL                 36.0\n",
       "KUL                 33.0\n",
       "ORD                 33.0\n",
       "CGK                 27.0\n",
       "JFK                 25.0\n",
       "LHR                 25.0\n",
       "CDG                 21.0\n",
       "CLT                 21.0\n",
       "PVG                 20.0\n",
       "BKK                 17.0\n",
       "LAS                 17.0\n",
       "AMS                 15.0\n",
       "FCO                 15.0\n",
       "MUC                 14.0\n",
       "HND                 13.0\n",
       "MAD                 13.0\n",
       "PEK                 13.0\n",
       "DFW                 11.0\n",
       "MIA                 11.0\n",
       "DXB                  0.0\n",
       "FRA                  0.0\n",
       "HKG                  0.0\n",
       "IST                  0.0\n",
       "LAX                  0.0\n",
       "PHX                  0.0\n",
       "SFO                  0.0\n",
       "SIN                  0.0"
      ]
     },
     "execution_count": 40,
     "metadata": {},
     "output_type": "execute_result"
    }
   ],
   "source": [
    "# clean up results\n",
    "num_flights=num_flights.fillna(0)\n",
    "num_flights=num_flights.sort_values(by=['value','Airport_IATA_code'], ascending=[False,True])\n",
    "# not sure whether to do the one below.... i think it looks neater....\n",
    "num_flights.set_index('Airport_IATA_code', inplace=True, drop=True)\n",
    "num_flights"
   ]
  },
  {
   "cell_type": "markdown",
   "metadata": {},
   "source": [
    "## Objective 2\n",
    "### Create a list of flights based on the Flight id, this output should include the passenger Id, relevant IATA/FAA codes, the departure time, the arrival time (times to be converted to HH:MM:SS format), and the flight times."
   ]
  },
  {
   "cell_type": "markdown",
   "metadata": {},
   "source": [
    "## Objective 3\n",
    "### Calculate the number of passengers on each flight."
   ]
  },
  {
   "cell_type": "code",
   "execution_count": 41,
   "metadata": {},
   "outputs": [],
   "source": [
    "# pass_data_route\n",
    "# calc_arrive_time(pass_data_route)\n",
    "#num_flights = airport_list.merge(from_counts_df, how='outer', on=['Airport_IATA_code'])"
   ]
  },
  {
   "cell_type": "code",
   "execution_count": 42,
   "metadata": {},
   "outputs": [],
   "source": [
    "flights = pass_data_slim['Flight_id']"
   ]
  },
  {
   "cell_type": "code",
   "execution_count": 43,
   "metadata": {},
   "outputs": [],
   "source": [
    "#mapper, where key = airport and value = 1 for each airport in from_list\n",
    "key2val2 = [[a, 1] for a in flights]\n",
    "mapper = pd.DataFrame(key2val2, columns=['Flight_id','value'])\n",
    "#mapper\n",
    "\n",
    "#reducer - takes key and val from mapper to provide final key and value\n",
    "num_passengers=mapper.groupby(['Flight_id']).sum()\n",
    "#num_passengers\n",
    "#reducer\n",
    "num_passengers.reset_index(inplace=True)"
   ]
  },
  {
   "cell_type": "code",
   "execution_count": 44,
   "metadata": {},
   "outputs": [
    {
     "data": {
      "text/html": [
       "<div>\n",
       "<style scoped>\n",
       "    .dataframe tbody tr th:only-of-type {\n",
       "        vertical-align: middle;\n",
       "    }\n",
       "\n",
       "    .dataframe tbody tr th {\n",
       "        vertical-align: top;\n",
       "    }\n",
       "\n",
       "    .dataframe thead th {\n",
       "        text-align: right;\n",
       "    }\n",
       "</style>\n",
       "<table border=\"1\" class=\"dataframe\">\n",
       "  <thead>\n",
       "    <tr style=\"text-align: right;\">\n",
       "      <th></th>\n",
       "      <th>value</th>\n",
       "    </tr>\n",
       "    <tr>\n",
       "      <th>Flight_id</th>\n",
       "      <th></th>\n",
       "    </tr>\n",
       "  </thead>\n",
       "  <tbody>\n",
       "    <tr>\n",
       "      <td>ULZ8130D</td>\n",
       "      <td>27</td>\n",
       "    </tr>\n",
       "    <tr>\n",
       "      <td>GMO5938W</td>\n",
       "      <td>25</td>\n",
       "    </tr>\n",
       "    <tr>\n",
       "      <td>XXQ4064B</td>\n",
       "      <td>25</td>\n",
       "    </tr>\n",
       "    <tr>\n",
       "      <td>KJR6646J</td>\n",
       "      <td>23</td>\n",
       "    </tr>\n",
       "    <tr>\n",
       "      <td>QHU1140O</td>\n",
       "      <td>21</td>\n",
       "    </tr>\n",
       "    <tr>\n",
       "      <td>SQU6245R</td>\n",
       "      <td>21</td>\n",
       "    </tr>\n",
       "    <tr>\n",
       "      <td>WSK1289Z</td>\n",
       "      <td>21</td>\n",
       "    </tr>\n",
       "    <tr>\n",
       "      <td>FYL5866L</td>\n",
       "      <td>20</td>\n",
       "    </tr>\n",
       "    <tr>\n",
       "      <td>JVY9791G</td>\n",
       "      <td>20</td>\n",
       "    </tr>\n",
       "    <tr>\n",
       "      <td>PME8178S</td>\n",
       "      <td>18</td>\n",
       "    </tr>\n",
       "    <tr>\n",
       "      <td>SOH3431A</td>\n",
       "      <td>18</td>\n",
       "    </tr>\n",
       "    <tr>\n",
       "      <td>BER7172M</td>\n",
       "      <td>17</td>\n",
       "    </tr>\n",
       "    <tr>\n",
       "      <td>VYW5940P</td>\n",
       "      <td>17</td>\n",
       "    </tr>\n",
       "    <tr>\n",
       "      <td>YZO4444S</td>\n",
       "      <td>17</td>\n",
       "    </tr>\n",
       "    <tr>\n",
       "      <td>MBA8071P</td>\n",
       "      <td>16</td>\n",
       "    </tr>\n",
       "    <tr>\n",
       "      <td>XOY7948U</td>\n",
       "      <td>16</td>\n",
       "    </tr>\n",
       "    <tr>\n",
       "      <td>ATT7791R</td>\n",
       "      <td>15</td>\n",
       "    </tr>\n",
       "    <tr>\n",
       "      <td>TMV7633W</td>\n",
       "      <td>15</td>\n",
       "    </tr>\n",
       "    <tr>\n",
       "      <td>VDC9164W</td>\n",
       "      <td>15</td>\n",
       "    </tr>\n",
       "    <tr>\n",
       "      <td>VYU9214I</td>\n",
       "      <td>15</td>\n",
       "    </tr>\n",
       "    <tr>\n",
       "      <td>HZT2506M</td>\n",
       "      <td>14</td>\n",
       "    </tr>\n",
       "    <tr>\n",
       "      <td>RUM0422W</td>\n",
       "      <td>14</td>\n",
       "    </tr>\n",
       "    <tr>\n",
       "      <td>MOO1786A</td>\n",
       "      <td>13</td>\n",
       "    </tr>\n",
       "    <tr>\n",
       "      <td>RPG3351U</td>\n",
       "      <td>13</td>\n",
       "    </tr>\n",
       "    <tr>\n",
       "      <td>XIL3623J</td>\n",
       "      <td>13</td>\n",
       "    </tr>\n",
       "    <tr>\n",
       "      <td>DAU2617A</td>\n",
       "      <td>12</td>\n",
       "    </tr>\n",
       "    <tr>\n",
       "      <td>DKZ3042O</td>\n",
       "      <td>11</td>\n",
       "    </tr>\n",
       "    <tr>\n",
       "      <td>WPW9201U</td>\n",
       "      <td>11</td>\n",
       "    </tr>\n",
       "    <tr>\n",
       "      <td>EWH6301Y</td>\n",
       "      <td>10</td>\n",
       "    </tr>\n",
       "    <tr>\n",
       "      <td>HUR0974O</td>\n",
       "      <td>7</td>\n",
       "    </tr>\n",
       "  </tbody>\n",
       "</table>\n",
       "</div>"
      ],
      "text/plain": [
       "           value\n",
       "Flight_id       \n",
       "ULZ8130D      27\n",
       "GMO5938W      25\n",
       "XXQ4064B      25\n",
       "KJR6646J      23\n",
       "QHU1140O      21\n",
       "SQU6245R      21\n",
       "WSK1289Z      21\n",
       "FYL5866L      20\n",
       "JVY9791G      20\n",
       "PME8178S      18\n",
       "SOH3431A      18\n",
       "BER7172M      17\n",
       "VYW5940P      17\n",
       "YZO4444S      17\n",
       "MBA8071P      16\n",
       "XOY7948U      16\n",
       "ATT7791R      15\n",
       "TMV7633W      15\n",
       "VDC9164W      15\n",
       "VYU9214I      15\n",
       "HZT2506M      14\n",
       "RUM0422W      14\n",
       "MOO1786A      13\n",
       "RPG3351U      13\n",
       "XIL3623J      13\n",
       "DAU2617A      12\n",
       "DKZ3042O      11\n",
       "WPW9201U      11\n",
       "EWH6301Y      10\n",
       "HUR0974O       7"
      ]
     },
     "execution_count": 44,
     "metadata": {},
     "output_type": "execute_result"
    }
   ],
   "source": [
    "# clean up results\n",
    "#num_passengers=num_flights.fillna(0)\n",
    "num_passengers=num_passengers.sort_values(by=['value','Flight_id'], ascending=[False,True])\n",
    "num_passengers.set_index('Flight_id', inplace=True, drop=True)\n",
    "num_passengers"
   ]
  },
  {
   "cell_type": "markdown",
   "metadata": {},
   "source": [
    "## Objective 4\n",
    "### Calculate the line-of-sight (nautical) miles for each flight and the total travelled by each passenger and thus output the passenger having earned the highest air miles."
   ]
  },
  {
   "cell_type": "code",
   "execution_count": 45,
   "metadata": {},
   "outputs": [],
   "source": [
    "# Calulate miles per flight,\n",
    "\n",
    "def calculate_miles(df_in):\n",
    "    global miles_per_flight\n",
    "    miles_per_flight = []\n",
    "    for ind in df_in.index:\n",
    "            #Take from airport\n",
    "            p= df_in['Passenger_id'][ind]\n",
    "            x= df_in['From_airport_IATA'][ind]\n",
    "            #Find it in airport lat long list\n",
    "            row = (airport_lat_lon[airport_lat_lon['Airport_IATA_code'] == x].index[0])\n",
    "            #Give me the latitude and longitude\n",
    "            a = airport_lat_lon['Latitude'][row]\n",
    "            b = airport_lat_lon['Longitude'][row]\n",
    "            #Take dest airport\n",
    "            y = df_in['Dest_airport_IATA'][ind]\n",
    "            #Find it in airport lat long list\n",
    "            row = (airport_lat_lon[airport_lat_lon['Airport_IATA_code'] == y].index[0])\n",
    "            #Give me the latitude and longitude\n",
    "            c = airport_lat_lon['Latitude'][row]\n",
    "            d = airport_lat_lon['Longitude'][row]\n",
    "            miles = math.sqrt((c-a)**2+(d-b)**2)\n",
    "            miles_per_flight.append([df_in['Passenger_id'][ind],miles])\n",
    "    miles_per_flight= pd.DataFrame(miles_per_flight\n",
    "                                   , columns=['Passenger_id','Miles']\n",
    "                                  )    \n"
   ]
  },
  {
   "cell_type": "code",
   "execution_count": 46,
   "metadata": {},
   "outputs": [],
   "source": [
    "calculate_miles(pass_data_slim)\n",
    "# miles_per_flight"
   ]
  },
  {
   "cell_type": "code",
   "execution_count": 47,
   "metadata": {},
   "outputs": [],
   "source": [
    "key2val2 = pd.DataFrame()\n",
    "for index,row in miles_per_flight.iterrows():\n",
    "    key2val2=key2val2.append(miles_per_flight.loc[index])\n",
    "    mapper = pd.DataFrame(key2val2, columns=['Miles','Passenger_id'])\n",
    "# mapper"
   ]
  },
  {
   "cell_type": "code",
   "execution_count": 48,
   "metadata": {},
   "outputs": [],
   "source": [
    "#reducer - takes key and val from mapper to provide final key and value\n",
    "miles_per_pass=mapper.groupby(['Passenger_id']).sum().round(1)\n",
    "#reducer\n",
    "miles_per_pass.reset_index(inplace=True)"
   ]
  },
  {
   "cell_type": "code",
   "execution_count": 49,
   "metadata": {},
   "outputs": [
    {
     "data": {
      "text/html": [
       "<div>\n",
       "<style scoped>\n",
       "    .dataframe tbody tr th:only-of-type {\n",
       "        vertical-align: middle;\n",
       "    }\n",
       "\n",
       "    .dataframe tbody tr th {\n",
       "        vertical-align: top;\n",
       "    }\n",
       "\n",
       "    .dataframe thead th {\n",
       "        text-align: right;\n",
       "    }\n",
       "</style>\n",
       "<table border=\"1\" class=\"dataframe\">\n",
       "  <thead>\n",
       "    <tr style=\"text-align: right;\">\n",
       "      <th></th>\n",
       "      <th>Miles</th>\n",
       "    </tr>\n",
       "    <tr>\n",
       "      <th>Passenger_id</th>\n",
       "      <th></th>\n",
       "    </tr>\n",
       "  </thead>\n",
       "  <tbody>\n",
       "    <tr>\n",
       "      <td>UES9151GS5</td>\n",
       "      <td>3492.2</td>\n",
       "    </tr>\n",
       "    <tr>\n",
       "      <td>DAZ3029XA0</td>\n",
       "      <td>3305.9</td>\n",
       "    </tr>\n",
       "    <tr>\n",
       "      <td>BWI0520BG6</td>\n",
       "      <td>3272.9</td>\n",
       "    </tr>\n",
       "    <tr>\n",
       "      <td>SPR4484HA6</td>\n",
       "      <td>3128.0</td>\n",
       "    </tr>\n",
       "    <tr>\n",
       "      <td>PUD8209OG3</td>\n",
       "      <td>3096.7</td>\n",
       "    </tr>\n",
       "    <tr>\n",
       "      <td>WYU2010YH8</td>\n",
       "      <td>2976.8</td>\n",
       "    </tr>\n",
       "    <tr>\n",
       "      <td>JJM4724RF7</td>\n",
       "      <td>2686.0</td>\n",
       "    </tr>\n",
       "    <tr>\n",
       "      <td>WBE6935NU3</td>\n",
       "      <td>2600.8</td>\n",
       "    </tr>\n",
       "    <tr>\n",
       "      <td>CKZ3132BR4</td>\n",
       "      <td>2559.8</td>\n",
       "    </tr>\n",
       "    <tr>\n",
       "      <td>HCA3158QA6</td>\n",
       "      <td>2505.9</td>\n",
       "    </tr>\n",
       "    <tr>\n",
       "      <td>YMH6360YP0</td>\n",
       "      <td>2388.4</td>\n",
       "    </tr>\n",
       "    <tr>\n",
       "      <td>EZC9678QI6</td>\n",
       "      <td>2318.9</td>\n",
       "    </tr>\n",
       "    <tr>\n",
       "      <td>CXN7304ER2</td>\n",
       "      <td>2275.9</td>\n",
       "    </tr>\n",
       "    <tr>\n",
       "      <td>LLZ3798PE3</td>\n",
       "      <td>2216.0</td>\n",
       "    </tr>\n",
       "    <tr>\n",
       "      <td>HGO4350KK1</td>\n",
       "      <td>2181.9</td>\n",
       "    </tr>\n",
       "    <tr>\n",
       "      <td>EDV2089LK5</td>\n",
       "      <td>2146.5</td>\n",
       "    </tr>\n",
       "    <tr>\n",
       "      <td>VZY2993ME1</td>\n",
       "      <td>2017.7</td>\n",
       "    </tr>\n",
       "    <tr>\n",
       "      <td>POP2875LH3</td>\n",
       "      <td>1958.9</td>\n",
       "    </tr>\n",
       "    <tr>\n",
       "      <td>XFG5747ZT9</td>\n",
       "      <td>1852.6</td>\n",
       "    </tr>\n",
       "    <tr>\n",
       "      <td>CDC0302NN5</td>\n",
       "      <td>1813.5</td>\n",
       "    </tr>\n",
       "    <tr>\n",
       "      <td>SJD8775RZ4</td>\n",
       "      <td>1766.7</td>\n",
       "    </tr>\n",
       "    <tr>\n",
       "      <td>CYJ0225CH1</td>\n",
       "      <td>1702.7</td>\n",
       "    </tr>\n",
       "    <tr>\n",
       "      <td>JBE2302VO4</td>\n",
       "      <td>1688.2</td>\n",
       "    </tr>\n",
       "    <tr>\n",
       "      <td>WTC9125IE5</td>\n",
       "      <td>1607.3</td>\n",
       "    </tr>\n",
       "    <tr>\n",
       "      <td>MXU9187YC7</td>\n",
       "      <td>1603.5</td>\n",
       "    </tr>\n",
       "    <tr>\n",
       "      <td>KKP5277HZ7</td>\n",
       "      <td>1590.0</td>\n",
       "    </tr>\n",
       "    <tr>\n",
       "      <td>ONL0812DH1</td>\n",
       "      <td>1332.3</td>\n",
       "    </tr>\n",
       "    <tr>\n",
       "      <td>PIT2755XC1</td>\n",
       "      <td>994.7</td>\n",
       "    </tr>\n",
       "    <tr>\n",
       "      <td>IEG9308EA5</td>\n",
       "      <td>978.6</td>\n",
       "    </tr>\n",
       "    <tr>\n",
       "      <td>PAJ3974RK1</td>\n",
       "      <td>891.7</td>\n",
       "    </tr>\n",
       "  </tbody>\n",
       "</table>\n",
       "</div>"
      ],
      "text/plain": [
       "               Miles\n",
       "Passenger_id        \n",
       "UES9151GS5    3492.2\n",
       "DAZ3029XA0    3305.9\n",
       "BWI0520BG6    3272.9\n",
       "SPR4484HA6    3128.0\n",
       "PUD8209OG3    3096.7\n",
       "WYU2010YH8    2976.8\n",
       "JJM4724RF7    2686.0\n",
       "WBE6935NU3    2600.8\n",
       "CKZ3132BR4    2559.8\n",
       "HCA3158QA6    2505.9\n",
       "YMH6360YP0    2388.4\n",
       "EZC9678QI6    2318.9\n",
       "CXN7304ER2    2275.9\n",
       "LLZ3798PE3    2216.0\n",
       "HGO4350KK1    2181.9\n",
       "EDV2089LK5    2146.5\n",
       "VZY2993ME1    2017.7\n",
       "POP2875LH3    1958.9\n",
       "XFG5747ZT9    1852.6\n",
       "CDC0302NN5    1813.5\n",
       "SJD8775RZ4    1766.7\n",
       "CYJ0225CH1    1702.7\n",
       "JBE2302VO4    1688.2\n",
       "WTC9125IE5    1607.3\n",
       "MXU9187YC7    1603.5\n",
       "KKP5277HZ7    1590.0\n",
       "ONL0812DH1    1332.3\n",
       "PIT2755XC1     994.7\n",
       "IEG9308EA5     978.6\n",
       "PAJ3974RK1     891.7"
      ]
     },
     "execution_count": 49,
     "metadata": {},
     "output_type": "execute_result"
    }
   ],
   "source": [
    "# clean up results\n",
    "#num_passengers=num_flights.fillna(0)\n",
    "miles_per_pass=miles_per_pass.sort_values(by=['Miles'], ascending=[False])\n",
    "miles_per_pass.set_index('Passenger_id', inplace=True, drop=True)\n",
    "miles_per_pass"
   ]
  }
 ],
 "metadata": {
  "kernelspec": {
   "display_name": "Python 3",
   "language": "python",
   "name": "python3"
  },
  "language_info": {
   "codemirror_mode": {
    "name": "ipython",
    "version": 3
   },
   "file_extension": ".py",
   "mimetype": "text/x-python",
   "name": "python",
   "nbconvert_exporter": "python",
   "pygments_lexer": "ipython3",
   "version": "3.7.4"
  }
 },
 "nbformat": 4,
 "nbformat_minor": 2
}
