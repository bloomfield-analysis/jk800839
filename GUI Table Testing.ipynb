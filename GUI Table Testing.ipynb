{
 "cells": [
  {
   "cell_type": "code",
   "execution_count": 5,
   "metadata": {},
   "outputs": [
    {
     "ename": "TypeError",
     "evalue": "can only concatenate list (not \"NoneType\") to list",
     "output_type": "error",
     "traceback": [
      "\u001b[0;31m---------------------------------------------------------------------------\u001b[0m",
      "\u001b[0;31mTypeError\u001b[0m                                 Traceback (most recent call last)",
      "\u001b[0;32m<ipython-input-5-8b154ae70b2f>\u001b[0m in \u001b[0;36m<module>\u001b[0;34m\u001b[0m\n\u001b[1;32m     64\u001b[0m \u001b[0;31m# ------------------ The Event Loop ------------------\u001b[0m\u001b[0;34m\u001b[0m\u001b[0;34m\u001b[0m\u001b[0;34m\u001b[0m\u001b[0m\n\u001b[1;32m     65\u001b[0m \u001b[0;32mwhile\u001b[0m \u001b[0;32mTrue\u001b[0m\u001b[0;34m:\u001b[0m\u001b[0;34m\u001b[0m\u001b[0;34m\u001b[0m\u001b[0m\n\u001b[0;32m---> 66\u001b[0;31m     \u001b[0mevent\u001b[0m\u001b[0;34m,\u001b[0m \u001b[0mvalues\u001b[0m \u001b[0;34m=\u001b[0m \u001b[0mwindow\u001b[0m\u001b[0;34m.\u001b[0m\u001b[0mRead\u001b[0m\u001b[0;34m(\u001b[0m\u001b[0;34m)\u001b[0m\u001b[0;34m\u001b[0m\u001b[0;34m\u001b[0m\u001b[0m\n\u001b[0m\u001b[1;32m     67\u001b[0m     \u001b[0mprint\u001b[0m\u001b[0;34m(\u001b[0m\u001b[0mevent\u001b[0m\u001b[0;34m,\u001b[0m \u001b[0mvalues\u001b[0m\u001b[0;34m)\u001b[0m\u001b[0;34m\u001b[0m\u001b[0;34m\u001b[0m\u001b[0m\n\u001b[1;32m     68\u001b[0m     \u001b[0;32mif\u001b[0m \u001b[0mevent\u001b[0m \u001b[0;32min\u001b[0m \u001b[0;34m(\u001b[0m\u001b[0;32mNone\u001b[0m\u001b[0;34m,\u001b[0m \u001b[0;34m'Exit'\u001b[0m\u001b[0;34m)\u001b[0m\u001b[0;34m:\u001b[0m\u001b[0;34m\u001b[0m\u001b[0;34m\u001b[0m\u001b[0m\n",
      "\u001b[0;32m/opt/anaconda3/lib/python3.7/site-packages/PySimpleGUI/PySimpleGUI.py\u001b[0m in \u001b[0;36mRead\u001b[0;34m(self, timeout, timeout_key, close)\u001b[0m\n\u001b[1;32m   7719\u001b[0m \u001b[0;34m\u001b[0m\u001b[0m\n\u001b[1;32m   7720\u001b[0m         \u001b[0;32mwhile\u001b[0m \u001b[0;32mTrue\u001b[0m\u001b[0;34m:\u001b[0m\u001b[0;34m\u001b[0m\u001b[0;34m\u001b[0m\u001b[0m\n\u001b[0;32m-> 7721\u001b[0;31m             \u001b[0mresults\u001b[0m \u001b[0;34m=\u001b[0m \u001b[0mself\u001b[0m\u001b[0;34m.\u001b[0m\u001b[0m_read\u001b[0m\u001b[0;34m(\u001b[0m\u001b[0mtimeout\u001b[0m\u001b[0;34m=\u001b[0m\u001b[0mtimeout\u001b[0m\u001b[0;34m,\u001b[0m \u001b[0mtimeout_key\u001b[0m\u001b[0;34m=\u001b[0m\u001b[0mtimeout_key\u001b[0m\u001b[0;34m)\u001b[0m\u001b[0;34m\u001b[0m\u001b[0;34m\u001b[0m\u001b[0m\n\u001b[0m\u001b[1;32m   7722\u001b[0m             \u001b[0;31m# Post processing for Calendar Chooser Button\u001b[0m\u001b[0;34m\u001b[0m\u001b[0;34m\u001b[0m\u001b[0;34m\u001b[0m\u001b[0m\n\u001b[1;32m   7723\u001b[0m             \u001b[0;32mtry\u001b[0m\u001b[0;34m:\u001b[0m\u001b[0;34m\u001b[0m\u001b[0;34m\u001b[0m\u001b[0m\n",
      "\u001b[0;32m/opt/anaconda3/lib/python3.7/site-packages/PySimpleGUI/PySimpleGUI.py\u001b[0m in \u001b[0;36m_read\u001b[0;34m(self, timeout, timeout_key)\u001b[0m\n\u001b[1;32m   7785\u001b[0m             \u001b[0;32mreturn\u001b[0m \u001b[0;32mNone\u001b[0m\u001b[0;34m,\u001b[0m \u001b[0;32mNone\u001b[0m\u001b[0;34m\u001b[0m\u001b[0;34m\u001b[0m\u001b[0m\n\u001b[1;32m   7786\u001b[0m         \u001b[0;32mif\u001b[0m \u001b[0;32mnot\u001b[0m \u001b[0mself\u001b[0m\u001b[0;34m.\u001b[0m\u001b[0mShown\u001b[0m\u001b[0;34m:\u001b[0m\u001b[0;34m\u001b[0m\u001b[0;34m\u001b[0m\u001b[0m\n\u001b[0;32m-> 7787\u001b[0;31m             \u001b[0mself\u001b[0m\u001b[0;34m.\u001b[0m\u001b[0m_Show\u001b[0m\u001b[0;34m(\u001b[0m\u001b[0;34m)\u001b[0m\u001b[0;34m\u001b[0m\u001b[0;34m\u001b[0m\u001b[0m\n\u001b[0m\u001b[1;32m   7788\u001b[0m         \u001b[0;32melse\u001b[0m\u001b[0;34m:\u001b[0m\u001b[0;34m\u001b[0m\u001b[0;34m\u001b[0m\u001b[0m\n\u001b[1;32m   7789\u001b[0m             \u001b[0;31m# if already have a button waiting, the return previously built results\u001b[0m\u001b[0;34m\u001b[0m\u001b[0;34m\u001b[0m\u001b[0;34m\u001b[0m\u001b[0m\n",
      "\u001b[0;32m/opt/anaconda3/lib/python3.7/site-packages/PySimpleGUI/PySimpleGUI.py\u001b[0m in \u001b[0;36m_Show\u001b[0;34m(self, non_blocking)\u001b[0m\n\u001b[1;32m   7546\u001b[0m             \u001b[0mself\u001b[0m\u001b[0;34m.\u001b[0m\u001b[0mUseDefaultFocus\u001b[0m \u001b[0;34m=\u001b[0m \u001b[0;32mFalse\u001b[0m\u001b[0;34m\u001b[0m\u001b[0;34m\u001b[0m\u001b[0m\n\u001b[1;32m   7547\u001b[0m         \u001b[0;31m# -=-=-=-=-=-=-=-=- RUN the GUI -=-=-=-=-=-=-=-=- ##\u001b[0m\u001b[0;34m\u001b[0m\u001b[0;34m\u001b[0m\u001b[0;34m\u001b[0m\u001b[0m\n\u001b[0;32m-> 7548\u001b[0;31m         \u001b[0mStartupTK\u001b[0m\u001b[0;34m(\u001b[0m\u001b[0mself\u001b[0m\u001b[0;34m)\u001b[0m\u001b[0;34m\u001b[0m\u001b[0;34m\u001b[0m\u001b[0m\n\u001b[0m\u001b[1;32m   7549\u001b[0m         \u001b[0;31m# If a button or keyboard event happened but no results have been built, build the results\u001b[0m\u001b[0;34m\u001b[0m\u001b[0;34m\u001b[0m\u001b[0;34m\u001b[0m\u001b[0m\n\u001b[1;32m   7550\u001b[0m         \u001b[0;32mif\u001b[0m \u001b[0mself\u001b[0m\u001b[0;34m.\u001b[0m\u001b[0mLastKeyboardEvent\u001b[0m \u001b[0;32mis\u001b[0m \u001b[0;32mnot\u001b[0m \u001b[0;32mNone\u001b[0m \u001b[0;32mor\u001b[0m \u001b[0mself\u001b[0m\u001b[0;34m.\u001b[0m\u001b[0mLastButtonClicked\u001b[0m \u001b[0;32mis\u001b[0m \u001b[0;32mnot\u001b[0m \u001b[0;32mNone\u001b[0m\u001b[0;34m:\u001b[0m\u001b[0;34m\u001b[0m\u001b[0;34m\u001b[0m\u001b[0m\n",
      "\u001b[0;32m/opt/anaconda3/lib/python3.7/site-packages/PySimpleGUI/PySimpleGUI.py\u001b[0m in \u001b[0;36mStartupTK\u001b[0;34m(window)\u001b[0m\n\u001b[1;32m  13022\u001b[0m     \u001b[0;31m# root.protocol(\"WM_DELETE_WINDOW\", MyFlexForm.DestroyedCallback())\u001b[0m\u001b[0;34m\u001b[0m\u001b[0;34m\u001b[0m\u001b[0;34m\u001b[0m\u001b[0m\n\u001b[1;32m  13023\u001b[0m     \u001b[0;31m# root.bind('<Destroy>', MyFlexForm.DestroyedCallback())\u001b[0m\u001b[0;34m\u001b[0m\u001b[0;34m\u001b[0m\u001b[0;34m\u001b[0m\u001b[0m\n\u001b[0;32m> 13024\u001b[0;31m     \u001b[0m_convert_window_to_tk\u001b[0m\u001b[0;34m(\u001b[0m\u001b[0mwindow\u001b[0m\u001b[0;34m)\u001b[0m\u001b[0;34m\u001b[0m\u001b[0;34m\u001b[0m\u001b[0m\n\u001b[0m\u001b[1;32m  13025\u001b[0m \u001b[0;34m\u001b[0m\u001b[0m\n\u001b[1;32m  13026\u001b[0m     \u001b[0mwindow\u001b[0m\u001b[0;34m.\u001b[0m\u001b[0mSetIcon\u001b[0m\u001b[0;34m(\u001b[0m\u001b[0mwindow\u001b[0m\u001b[0;34m.\u001b[0m\u001b[0mWindowIcon\u001b[0m\u001b[0;34m)\u001b[0m\u001b[0;34m\u001b[0m\u001b[0;34m\u001b[0m\u001b[0m\n",
      "\u001b[0;32m/opt/anaconda3/lib/python3.7/site-packages/PySimpleGUI/PySimpleGUI.py\u001b[0m in \u001b[0;36m_convert_window_to_tk\u001b[0;34m(window)\u001b[0m\n\u001b[1;32m  12910\u001b[0m         \u001b[0;32mpass\u001b[0m\u001b[0;34m\u001b[0m\u001b[0;34m\u001b[0m\u001b[0m\n\u001b[1;32m  12911\u001b[0m \u001b[0;34m\u001b[0m\u001b[0m\n\u001b[0;32m> 12912\u001b[0;31m     \u001b[0mPackFormIntoFrame\u001b[0m\u001b[0;34m(\u001b[0m\u001b[0mwindow\u001b[0m\u001b[0;34m,\u001b[0m \u001b[0mmaster\u001b[0m\u001b[0;34m,\u001b[0m \u001b[0mwindow\u001b[0m\u001b[0;34m)\u001b[0m\u001b[0;34m\u001b[0m\u001b[0;34m\u001b[0m\u001b[0m\n\u001b[0m\u001b[1;32m  12913\u001b[0m \u001b[0;34m\u001b[0m\u001b[0m\n\u001b[1;32m  12914\u001b[0m     \u001b[0mwindow\u001b[0m\u001b[0;34m.\u001b[0m\u001b[0mTKroot\u001b[0m\u001b[0;34m.\u001b[0m\u001b[0mconfigure\u001b[0m\u001b[0;34m(\u001b[0m\u001b[0mpadx\u001b[0m\u001b[0;34m=\u001b[0m\u001b[0mwindow\u001b[0m\u001b[0;34m.\u001b[0m\u001b[0mMargins\u001b[0m\u001b[0;34m[\u001b[0m\u001b[0;36m0\u001b[0m\u001b[0;34m]\u001b[0m\u001b[0;34m,\u001b[0m \u001b[0mpady\u001b[0m\u001b[0;34m=\u001b[0m\u001b[0mwindow\u001b[0m\u001b[0;34m.\u001b[0m\u001b[0mMargins\u001b[0m\u001b[0;34m[\u001b[0m\u001b[0;36m1\u001b[0m\u001b[0;34m]\u001b[0m\u001b[0;34m)\u001b[0m\u001b[0;34m\u001b[0m\u001b[0;34m\u001b[0m\u001b[0m\n",
      "\u001b[0;32m/opt/anaconda3/lib/python3.7/site-packages/PySimpleGUI/PySimpleGUI.py\u001b[0m in \u001b[0;36mPackFormIntoFrame\u001b[0;34m(form, containing_frame, toplevel_form)\u001b[0m\n\u001b[1;32m  12558\u001b[0m                     \u001b[0mdisplaycolumns\u001b[0m \u001b[0;34m=\u001b[0m \u001b[0;34m[\u001b[0m\u001b[0melement\u001b[0m\u001b[0;34m.\u001b[0m\u001b[0mRowHeaderText\u001b[0m\u001b[0;34m,\u001b[0m \u001b[0;34m]\u001b[0m \u001b[0;34m+\u001b[0m \u001b[0mdisplaycolumns\u001b[0m\u001b[0;34m\u001b[0m\u001b[0;34m\u001b[0m\u001b[0m\n\u001b[1;32m  12559\u001b[0m                     \u001b[0;32mif\u001b[0m \u001b[0mcolumn_headings\u001b[0m \u001b[0;32mis\u001b[0m \u001b[0;32mnot\u001b[0m \u001b[0;32mNone\u001b[0m\u001b[0;34m:\u001b[0m\u001b[0;34m\u001b[0m\u001b[0;34m\u001b[0m\u001b[0m\n\u001b[0;32m> 12560\u001b[0;31m                         \u001b[0mcolumn_headings\u001b[0m \u001b[0;34m=\u001b[0m \u001b[0;34m[\u001b[0m\u001b[0melement\u001b[0m\u001b[0;34m.\u001b[0m\u001b[0mRowHeaderText\u001b[0m\u001b[0;34m,\u001b[0m \u001b[0;34m]\u001b[0m \u001b[0;34m+\u001b[0m \u001b[0melement\u001b[0m\u001b[0;34m.\u001b[0m\u001b[0mColumnHeadings\u001b[0m\u001b[0;34m\u001b[0m\u001b[0;34m\u001b[0m\u001b[0m\n\u001b[0m\u001b[1;32m  12561\u001b[0m                     \u001b[0;32melse\u001b[0m\u001b[0;34m:\u001b[0m\u001b[0;34m\u001b[0m\u001b[0;34m\u001b[0m\u001b[0m\n\u001b[1;32m  12562\u001b[0m                         \u001b[0mcolumn_headings\u001b[0m \u001b[0;34m=\u001b[0m \u001b[0;34m[\u001b[0m\u001b[0melement\u001b[0m\u001b[0;34m.\u001b[0m\u001b[0mRowHeaderText\u001b[0m\u001b[0;34m,\u001b[0m \u001b[0;34m]\u001b[0m \u001b[0;34m+\u001b[0m \u001b[0mdisplaycolumns\u001b[0m\u001b[0;34m\u001b[0m\u001b[0;34m\u001b[0m\u001b[0m\n",
      "\u001b[0;31mTypeError\u001b[0m: can only concatenate list (not \"NoneType\") to list"
     ]
    }
   ],
   "source": [
    "import PySimpleGUI as sg\n",
    "import random\n",
    "import string\n",
    "\n",
    "########    ###    ########  ##       ######## \n",
    "   ##      ## ##   ##     ## ##       ##       \n",
    "   ##     ##   ##  ##     ## ##       ##       \n",
    "   ##    ##     ## ########  ##       ######   \n",
    "   ##    ######### ##     ## ##       ##       \n",
    "   ##    ##     ## ##     ## ##       ##       \n",
    "   ##    ##     ## ########  ######## ########                       \n",
    "\n",
    "######## ##       ######## ##     ## ######## ##    ## ######## \n",
    "##       ##       ##       ###   ### ##       ###   ##    ##    \n",
    "##       ##       ##       #### #### ##       ####  ##    ##    \n",
    "######   ##       ######   ## ### ## ######   ## ## ##    ##    \n",
    "##       ##       ##       ##     ## ##       ##  ####    ##    \n",
    "##       ##       ##       ##     ## ##       ##   ###    ##    \n",
    "######## ######## ######## ##     ## ######## ##    ##    ##    \n",
    "\n",
    "\"\"\"\n",
    "  This sample code shows how to use a Table Element to create and display a Table in PySimpleGUIWeb.  You'll learn how to make a table, display it, and how to get \"events\" back when items are clicked\n",
    "\"\"\"\n",
    "\n",
    "\n",
    "\n",
    "# ------------------ Create a fake table ------------------\n",
    "class Fake():\n",
    "    @classmethod\n",
    "    def word(self):\n",
    "        return ''.join(random.choice(string.ascii_lowercase) for i in range(10))\n",
    "\n",
    "    @classmethod\n",
    "    def number(self, max=1000):\n",
    "        return random.randint(0,max)\n",
    "\n",
    "\n",
    "def make_table(num_rows, num_cols):\n",
    "    data = [[j for j in range(num_cols)] for i in range(num_rows)]\n",
    "    data[0] = [Fake.word() for _ in range(num_cols)]\n",
    "    for i in range(1, num_rows):\n",
    "        data[i] = [Fake.word(), *[Fake.number() for i in range(num_cols - 1)]]\n",
    "    return data\n",
    "\n",
    "# table_data has our actual table data to be displayed\n",
    "table_data = make_table(num_rows=15, num_cols=6)\n",
    "\n",
    "# ------------------ Create a window layout ------------------\n",
    "# Attempt  made to show all functioning parms to Table Element in PySimpleGUIWeb\n",
    "layout = [[sg.Table(values=table_data,\n",
    "                    enable_events=True,\n",
    "                    display_row_numbers=True,\n",
    "                    font='Courier 14',\n",
    "#                     row_header_text='Row #',\n",
    "                    key='_table_',\n",
    "                    text_color='red')],\n",
    "          [sg.Button('Exit')],\n",
    "          [sg.T('Selected rows = '), sg.T('', size=(30,1), key='_selected_rows_')],\n",
    "          [sg.T('Selected value = '), sg.T('', size=(30,1), key='_selected_value_')]]\n",
    "\n",
    "# ------------------ Create the window ------------------\n",
    "window = sg.Window('Table Element Example').Layout(layout)\n",
    "\n",
    "# ------------------ The Event Loop ------------------\n",
    "while True:\n",
    "    event, values = window.Read()\n",
    "    print(event, values)\n",
    "    if event in (None, 'Exit'):\n",
    "        break\n",
    "    window.Element('_selected_rows_').Update(values['_table_'])\n",
    "    window.Element('_selected_value_').Update(window.Element('_table_').SelectedItem)\n",
    "# ------------------ User closed window so exit ------------------\n",
    "window.Close()\n"
   ]
  },
  {
   "cell_type": "code",
   "execution_count": 72,
   "metadata": {},
   "outputs": [],
   "source": [
    "#!/usr/bin/env python\n",
    "import PySimpleGUI as sg\n",
    "import pandas as pd\n",
    "\n",
    "# Yet another example of showing CSV data in Table\n",
    "\n",
    "def table_example():\n",
    "\n",
    "    sg.set_options(auto_size_buttons=True)\n",
    "    filename = sg.popup_get_file(\n",
    "        'filename to open', no_window=True, file_types=((\"CSV Files\", \"*.csv\"),))\n",
    "    # --- populate table with file contents --- #\n",
    "    if filename == '':\n",
    "        return\n",
    "\n",
    "    data = []\n",
    "    header_list = []\n",
    "    button = sg.popup_yes_no('Does this file have column names already?')\n",
    "\n",
    "    if filename is not None:\n",
    "        try:\n",
    "            # Header=None means you directly pass the columns names to the dataframe\n",
    "            df = pd.read_csv(filename, sep=',', engine='python', header=None)\n",
    "            data = df.values.tolist()               # read everything else into a list of rows\n",
    "            if button == 'Yes':                     # Press if you named your columns in the csv\n",
    "                # Uses the first row (which should be column names) as columns names\n",
    "                header_list = df.iloc[0].tolist()\n",
    "                # Drops the first row in the table (otherwise the header names and the first row will be the same)\n",
    "                data = df[1:].values.tolist()\n",
    "            elif button == 'No':                    # Press if you didn't name the columns in the csv\n",
    "                # Creates columns names for each column ('column0', 'column1', etc)\n",
    "                header_list = ['column' + str(x) for x in range(len(data[0]))]\n",
    "        except:\n",
    "            sg.popup_error('Error reading file')\n",
    "            return\n",
    "\n",
    "    layout = [\n",
    "        [sg.Table(values=data,\n",
    "                  headings=header_list,\n",
    "                  display_row_numbers=True,\n",
    "                  auto_size_columns=False,\n",
    "                  num_rows=min(25, len(data)))]\n",
    "    ]\n",
    "\n",
    "    window = sg.Window('Table', layout, grab_anywhere=False)\n",
    "    event, values = window.read()\n",
    "    window.close()\n",
    "\n",
    "\n",
    "table_example()"
   ]
  },
  {
   "cell_type": "code",
   "execution_count": 19,
   "metadata": {},
   "outputs": [],
   "source": [
    "#!/usr/bin/env python\n",
    "import PySimpleGUI as sg\n",
    "import pandas as pd\n",
    "\n",
    "# Yet another example of showing CSV data in Table\n",
    "\n",
    "def table_example():\n",
    "\n",
    "    sg.set_options(auto_size_buttons=True)\n",
    "    filename = pd.read_csv('Top30_airports_LatLong.csv',header=None)\n",
    "\n",
    "    data = []\n",
    "    header_list = []\n",
    "    button = sg.popup_yes_no('Does this file have column names already?')\n",
    "\n",
    "#    if filename is not None:\n",
    "#        try:\n",
    "            # Header=None means you directly pass the columns names to the dataframe\n",
    "#             df = pd.read_csv(filename, sep=',', engine='python', header=None)\n",
    "    data = filename.values.tolist()               # read everything else into a list of rows\n",
    "    if button == 'Yes':                     # Press if you named your columns in the csv\n",
    "        # Uses the first row (which should be column names) as columns names\n",
    "        header_list = filename.iloc[0].tolist()\n",
    "        # Drops the first row in the table (otherwise the header names and the first row will be the same)\n",
    "        data = filename[1:].values.tolist()\n",
    "    elif button == 'No':                    # Press if you didn't name the columns in the csv\n",
    "        # Creates columns names for each column ('column0', 'column1', etc)\n",
    "        header_list = ['column' + str(x) for x in range(len(data[0]))]\n",
    " #       except:\n",
    "  #          sg.popup_error('Error reading file')\n",
    "   #         return\n",
    "\n",
    "    layout = [\n",
    "        [sg.Table(values=data,\n",
    "                  headings=header_list,\n",
    "                  display_row_numbers=True,\n",
    "                  auto_size_columns=False,\n",
    "                  num_rows=min(25, len(data)))]\n",
    "    ]\n",
    "\n",
    "    window = sg.Window('Table', layout, grab_anywhere=False)\n",
    "    event, values = window.read()\n",
    "    window.close()\n",
    "\n",
    "\n",
    "table_example()"
   ]
  },
  {
   "cell_type": "code",
   "execution_count": null,
   "metadata": {},
   "outputs": [],
   "source": []
  },
  {
   "cell_type": "code",
   "execution_count": 63,
   "metadata": {},
   "outputs": [
    {
     "data": {
      "text/plain": [
       "True"
      ]
     },
     "execution_count": 63,
     "metadata": {},
     "output_type": "execute_result"
    }
   ],
   "source": [
    "sg.SetOptions(\n",
    "    background_color='#152238',\n",
    "       text_element_background_color='#152238',\n",
    "       element_background_color='#152238',\n",
    "       text_color='#152238',\n",
    "       scrollbar_color=None,\n",
    "       input_elements_background_color='#FFFFFF',\n",
    "       progress_meter_color = ('green', 'blue')\n",
    "#        button_color=('white','#475841')\n",
    "    )"
   ]
  },
  {
   "cell_type": "code",
   "execution_count": 46,
   "metadata": {},
   "outputs": [
    {
     "data": {
      "text/plain": [
       "'SystemDefaultForReal'"
      ]
     },
     "execution_count": 46,
     "metadata": {},
     "output_type": "execute_result"
    }
   ],
   "source": [
    "sg.theme('SystemDefaultForReal')\n"
   ]
  },
  {
   "cell_type": "code",
   "execution_count": 71,
   "metadata": {},
   "outputs": [],
   "source": [
    "import PySimpleGUI as sg\n",
    "import pandas as pd\n",
    "\n",
    "# Yet another example of showing CSV data in Table\n",
    "\n",
    "def table_example(filename):\n",
    "\n",
    "    sg.set_options(auto_size_buttons=True)\n",
    "    df = pd.read_csv(filename,header=None)\n",
    "#     keep_on_top = True\n",
    "\n",
    "    data = []\n",
    "    header_list = []\n",
    "    data = df.values.tolist()               # read everything else into a list of rows\n",
    "    header_list = ['column' + str(x) for x in range(len(data[0]))]\n",
    "    layout = [\n",
    "        [sg.Text('Results', size=(10, 1), font=('Consolas', 10), key='Text')],\n",
    "        [sg.Table(values=data,\n",
    "#                   size=(60,10),\n",
    "                  headings=header_list,\n",
    "                  font=('Consolas', 20),\n",
    "                  display_row_numbers=True,\n",
    "                  auto_size_columns=True,\n",
    "                  num_rows=min(10, len(data)))]\n",
    "    ]\n",
    "\n",
    "    window = sg.Window('Table', layout, grab_anywhere=False)\n",
    "    event, values = window.read()\n",
    "    window.close()\n",
    "\n",
    "table_example('Top30_airports_LatLong.csv')"
   ]
  },
  {
   "cell_type": "code",
   "execution_count": 11,
   "metadata": {},
   "outputs": [],
   "source": [
    "filename = pd.read_csv('Top30_airports_LatLong.csv',header=None)"
   ]
  },
  {
   "cell_type": "code",
   "execution_count": null,
   "metadata": {},
   "outputs": [],
   "source": [
    "#This code will present a window and will print values until the user clicks the exit button or closes window using an X.\n",
    "\n",
    "sg.theme('DarkAmber')    # Keep things interesting for your users\n",
    "\n",
    "layout = [[sg.Text('Persistent window')],      \n",
    "          [sg.Input(key='-IN-')],      \n",
    "          [sg.Button('Read'), sg.Exit()]]      \n",
    "\n",
    "window = sg.Window('Window that stays open', layout)      \n",
    "\n",
    "while True:                             # The Event Loop\n",
    "    event, values = window.read() \n",
    "    print(event, values)       \n",
    "    if event == sg.WIN_CLOSED or event == 'Exit':\n",
    "        break      \n",
    "\n",
    "window.close()"
   ]
  },
  {
   "cell_type": "code",
   "execution_count": 76,
   "metadata": {},
   "outputs": [
    {
     "data": {
      "text/plain": [
       "'-IN-'"
      ]
     },
     "execution_count": 76,
     "metadata": {},
     "output_type": "execute_result"
    }
   ],
   "source": [
    "'-IN-'"
   ]
  },
  {
   "cell_type": "code",
   "execution_count": 77,
   "metadata": {},
   "outputs": [
    {
     "ename": "NameError",
     "evalue": "name 'key' is not defined",
     "output_type": "error",
     "traceback": [
      "\u001b[0;31m---------------------------------------------------------------------------\u001b[0m",
      "\u001b[0;31mNameError\u001b[0m                                 Traceback (most recent call last)",
      "\u001b[0;32m<ipython-input-77-e1efc99729be>\u001b[0m in \u001b[0;36m<module>\u001b[0;34m\u001b[0m\n\u001b[0;32m----> 1\u001b[0;31m \u001b[0mkey\u001b[0m\u001b[0;34m\u001b[0m\u001b[0;34m\u001b[0m\u001b[0m\n\u001b[0m",
      "\u001b[0;31mNameError\u001b[0m: name 'key' is not defined"
     ]
    }
   ],
   "source": [
    "key"
   ]
  },
  {
   "cell_type": "code",
   "execution_count": null,
   "metadata": {},
   "outputs": [],
   "source": []
  }
 ],
 "metadata": {
  "kernelspec": {
   "display_name": "Python 3",
   "language": "python",
   "name": "python3"
  },
  "language_info": {
   "codemirror_mode": {
    "name": "ipython",
    "version": 3
   },
   "file_extension": ".py",
   "mimetype": "text/x-python",
   "name": "python",
   "nbconvert_exporter": "python",
   "pygments_lexer": "ipython3",
   "version": "3.7.4"
  }
 },
 "nbformat": 4,
 "nbformat_minor": 2
}
